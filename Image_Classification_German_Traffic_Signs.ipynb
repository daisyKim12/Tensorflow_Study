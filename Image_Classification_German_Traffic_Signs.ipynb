{
  "nbformat": 4,
  "nbformat_minor": 0,
  "metadata": {
    "colab": {
      "provenance": [],
      "gpuType": "T4",
      "authorship_tag": "ABX9TyNuL4qg2QgwX/UFUdLOYB0c",
      "include_colab_link": true
    },
    "kernelspec": {
      "name": "python3",
      "display_name": "Python 3"
    },
    "language_info": {
      "name": "python"
    },
    "accelerator": "GPU"
  },
  "cells": [
    {
      "cell_type": "markdown",
      "metadata": {
        "id": "view-in-github",
        "colab_type": "text"
      },
      "source": [
        "<a href=\"https://colab.research.google.com/github/daisyKim12/Tensorflow_Study/blob/main/Image_Classification_German_Traffic_Signs.ipynb\" target=\"_parent\"><img src=\"https://colab.research.google.com/assets/colab-badge.svg\" alt=\"Open In Colab\"/></a>"
      ]
    },
    {
      "cell_type": "code",
      "execution_count": 2,
      "metadata": {
        "colab": {
          "base_uri": "https://localhost:8080/"
        },
        "id": "zMIrD-XTCKG-",
        "outputId": "1b3977ea-b22f-438a-ed34-64f3bf5a94c1"
      },
      "outputs": [
        {
          "output_type": "stream",
          "name": "stdout",
          "text": [
            "============================================================\n",
            "설치환경: Google Colab\n",
            "TensorFlow 시험환경을 구성중입니다. 잠시만 기다려 주세요.\n",
            "(설치는 약 1~5분 정도 소요 됩니다)\n",
            "============================================================\n",
            "============================================================\n",
            "[알림] TensorFlow 시험환경 구성이 완료 되었습니다.\n",
            "============================================================\n"
          ]
        }
      ],
      "source": [
        "# downgrade google colab tensorflow version to 2.9.0\n",
        "import urllib.request\n",
        "\n",
        "url = 'https://raw.githubusercontent.com/teddylee777/machine-learning/master/99-Misc/01-Colab/tfcert.py'\n",
        "urllib.request.urlretrieve(url, 'tfcert.py')\n",
        "%run tfcert.py\n",
        "\n",
        "import tensorflow as tf\n",
        "import tensorflow_datasets as tfds"
      ]
    },
    {
      "cell_type": "code",
      "source": [
        "import urllib\n",
        "import zipfile\n",
        "\n",
        "import tensorflow as tf\n",
        "from keras_preprocessing.image import ImageDataGenerator"
      ],
      "metadata": {
        "id": "9dXfyTXPUKgf"
      },
      "execution_count": 4,
      "outputs": []
    },
    {
      "cell_type": "code",
      "source": [
        "def download_and_extract_data():\n",
        "    url = 'https://storage.googleapis.com/download.tensorflow.org/data/certificate/germantrafficsigns.zip'\n",
        "    urllib.request.urlretrieve(url, 'germantrafficsigns.zip')\n",
        "    with zipfile.ZipFile('germantrafficsigns.zip', 'r') as zip_ref:\n",
        "        zip_ref.extractall()"
      ],
      "metadata": {
        "id": "qYUkbSN6UhdE"
      },
      "execution_count": 5,
      "outputs": []
    },
    {
      "cell_type": "code",
      "source": [
        "def preprocess(image, label):\n",
        "    # NORMALIZE\n",
        "    image /= 255\n",
        "\n",
        "    return image, label"
      ],
      "metadata": {
        "id": "SWmCkUcjUwt1"
      },
      "execution_count": 6,
      "outputs": []
    },
    {
      "cell_type": "code",
      "source": [
        "download_and_extract_data()\n",
        "BATCH_SIZE = 32\n",
        "IMG_SIZE = 30"
      ],
      "metadata": {
        "id": "XleZcQblU1mq"
      },
      "execution_count": 7,
      "outputs": []
    },
    {
      "cell_type": "code",
      "source": [
        "train_ds = tf.keras.preprocessing.image_dataset_from_directory(\n",
        "    directory='train/',\n",
        "    label_mode='categorical',\n",
        "    image_size=(IMG_SIZE,IMG_SIZE),\n",
        "    batch_size = BATCH_SIZE)\n",
        "\n",
        "val_ds = tf.keras.preprocessing.image_dataset_from_directory(\n",
        "    directory='validation/',\n",
        "    label_mode='categorical',\n",
        "    image_size=(IMG_SIZE,IMG_SIZE),\n",
        "    batch_size = BATCH_SIZE)"
      ],
      "metadata": {
        "colab": {
          "base_uri": "https://localhost:8080/"
        },
        "id": "IRzak9RTU-IP",
        "outputId": "63e04b0b-6ff4-4f16-e946-2e1e67ce54f3"
      },
      "execution_count": 8,
      "outputs": [
        {
          "output_type": "stream",
          "name": "stdout",
          "text": [
            "Found 31367 files belonging to 43 classes.\n",
            "Found 7842 files belonging to 43 classes.\n"
          ]
        }
      ]
    },
    {
      "cell_type": "code",
      "source": [
        "train_ds = train_ds.map(\n",
        "        preprocess, num_parallel_calls=tf.data.experimental.AUTOTUNE).prefetch(\n",
        "        tf.data.experimental.AUTOTUNE)\n",
        "val_ds = val_ds.map(\n",
        "    preprocess, num_parallel_calls=tf.data.experimental.AUTOTUNE)"
      ],
      "metadata": {
        "id": "RxQScXqlVDqV"
      },
      "execution_count": 10,
      "outputs": []
    },
    {
      "cell_type": "code",
      "source": [
        "from tensorflow.keras.layers import Conv2D, Dense, Dropout, MaxPooling2D, Flatten\n",
        "from tensorflow.keras.callbacks import ModelCheckpoint"
      ],
      "metadata": {
        "id": "pavXVkRNVG6u"
      },
      "execution_count": 13,
      "outputs": []
    },
    {
      "cell_type": "code",
      "source": [
        "model = tf.keras.models.Sequential([\n",
        "    Conv2D(32, (3,3), activation='relu', input_shape=(30,30,3)),\n",
        "    MaxPooling2D(2,2),\n",
        "    Conv2D(64, (3,3), activation='relu'),\n",
        "    MaxPooling2D(2,2),\n",
        "    Conv2D(64, (3,3), activation='relu'),\n",
        "    MaxPooling2D(2,2),\n",
        "    Flatten(),\n",
        "    Dropout(0.25),\n",
        "    Dense(128, activation='relu'),\n",
        "    Dense(43, activation='softmax'),\n",
        "])"
      ],
      "metadata": {
        "id": "0Yq4RPGSVcaZ"
      },
      "execution_count": 14,
      "outputs": []
    },
    {
      "cell_type": "code",
      "source": [
        "model.compile(optimizer='adam', loss='categorical_crossentropy', metrics=['acc'])"
      ],
      "metadata": {
        "id": "AeUwDUJLWQjY"
      },
      "execution_count": 15,
      "outputs": []
    },
    {
      "cell_type": "code",
      "source": [
        "checkpoint_path = 'tmp_checkpoint.ckpt'\n",
        "checkpoint = ModelCheckpoint(filepath=checkpoint_path,\n",
        "                             save_best_only = True,\n",
        "                             save_weights_only = True,\n",
        "                             monitor='val_loss',\n",
        "                             verbose=1)"
      ],
      "metadata": {
        "id": "jd99eWevW_Ot"
      },
      "execution_count": 17,
      "outputs": []
    },
    {
      "cell_type": "code",
      "source": [
        "model.fit(train_ds, validation_data = val_ds,\n",
        "          epochs = 5, callbacks = [checkpoint])"
      ],
      "metadata": {
        "colab": {
          "base_uri": "https://localhost:8080/"
        },
        "id": "DEavjnOvXVL-",
        "outputId": "c5037d39-7384-48d6-e9f1-e1b2a3e372e9"
      },
      "execution_count": 18,
      "outputs": [
        {
          "output_type": "stream",
          "name": "stdout",
          "text": [
            "Epoch 1/5\n",
            "981/981 [==============================] - ETA: 0s - loss: 1.8052 - acc: 0.4847\n",
            "Epoch 1: val_loss improved from inf to 0.64473, saving model to tmp_checkpoint.ckpt\n",
            "981/981 [==============================] - 24s 15ms/step - loss: 1.8052 - acc: 0.4847 - val_loss: 0.6447 - val_acc: 0.8154\n",
            "Epoch 2/5\n",
            "979/981 [============================>.] - ETA: 0s - loss: 0.5476 - acc: 0.8305\n",
            "Epoch 2: val_loss improved from 0.64473 to 0.26336, saving model to tmp_checkpoint.ckpt\n",
            "981/981 [==============================] - 9s 9ms/step - loss: 0.5473 - acc: 0.8306 - val_loss: 0.2634 - val_acc: 0.9218\n",
            "Epoch 3/5\n",
            "976/981 [============================>.] - ETA: 0s - loss: 0.3156 - acc: 0.9053\n",
            "Epoch 3: val_loss improved from 0.26336 to 0.16989, saving model to tmp_checkpoint.ckpt\n",
            "981/981 [==============================] - 12s 12ms/step - loss: 0.3152 - acc: 0.9054 - val_loss: 0.1699 - val_acc: 0.9515\n",
            "Epoch 4/5\n",
            "980/981 [============================>.] - ETA: 0s - loss: 0.2174 - acc: 0.9335\n",
            "Epoch 4: val_loss improved from 0.16989 to 0.11398, saving model to tmp_checkpoint.ckpt\n",
            "981/981 [==============================] - 13s 13ms/step - loss: 0.2174 - acc: 0.9334 - val_loss: 0.1140 - val_acc: 0.9693\n",
            "Epoch 5/5\n",
            "977/981 [============================>.] - ETA: 0s - loss: 0.1671 - acc: 0.9487\n",
            "Epoch 5: val_loss improved from 0.11398 to 0.09952, saving model to tmp_checkpoint.ckpt\n",
            "981/981 [==============================] - 8s 9ms/step - loss: 0.1668 - acc: 0.9488 - val_loss: 0.0995 - val_acc: 0.9717\n"
          ]
        },
        {
          "output_type": "execute_result",
          "data": {
            "text/plain": [
              "<keras.callbacks.History at 0x77fce41e6b90>"
            ]
          },
          "metadata": {},
          "execution_count": 18
        }
      ]
    },
    {
      "cell_type": "code",
      "source": [
        "model.load_weights(checkpoint_path)"
      ],
      "metadata": {
        "colab": {
          "base_uri": "https://localhost:8080/"
        },
        "id": "tBov7Ak6XsnY",
        "outputId": "a1d9663e-0ee9-47fd-b9ac-f5510f9e26e6"
      },
      "execution_count": 19,
      "outputs": [
        {
          "output_type": "execute_result",
          "data": {
            "text/plain": [
              "<tensorflow.python.training.tracking.util.CheckpointLoadStatus at 0x77fce8ce5b10>"
            ]
          },
          "metadata": {},
          "execution_count": 19
        }
      ]
    },
    {
      "cell_type": "code",
      "source": [
        "model.evaluate(val_ds)"
      ],
      "metadata": {
        "colab": {
          "base_uri": "https://localhost:8080/"
        },
        "id": "5lfE4NbxYQVK",
        "outputId": "c789554b-cb55-4e54-d5ae-b6942d32b34c"
      },
      "execution_count": 20,
      "outputs": [
        {
          "output_type": "stream",
          "name": "stdout",
          "text": [
            "246/246 [==============================] - 2s 10ms/step - loss: 0.0995 - acc: 0.9717\n"
          ]
        },
        {
          "output_type": "execute_result",
          "data": {
            "text/plain": [
              "[0.09952019900083542, 0.9716908931732178]"
            ]
          },
          "metadata": {},
          "execution_count": 20
        }
      ]
    }
  ]
}