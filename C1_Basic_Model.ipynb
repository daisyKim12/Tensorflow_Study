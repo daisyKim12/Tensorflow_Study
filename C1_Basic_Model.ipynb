{
  "nbformat": 4,
  "nbformat_minor": 0,
  "metadata": {
    "colab": {
      "provenance": [],
      "gpuType": "T4",
      "authorship_tag": "ABX9TyMuURGuq+1G2xqmC9ifFUv+",
      "include_colab_link": true
    },
    "kernelspec": {
      "name": "python3",
      "display_name": "Python 3"
    },
    "language_info": {
      "name": "python"
    },
    "accelerator": "GPU"
  },
  "cells": [
    {
      "cell_type": "markdown",
      "metadata": {
        "id": "view-in-github",
        "colab_type": "text"
      },
      "source": [
        "<a href=\"https://colab.research.google.com/github/daisyKim12/Tensorflow_Study/blob/main/Lecture_C1_Basic_Model.ipynb\" target=\"_parent\"><img src=\"https://colab.research.google.com/assets/colab-badge.svg\" alt=\"Open In Colab\"/></a>"
      ]
    },
    {
      "cell_type": "markdown",
      "source": [
        "# Import"
      ],
      "metadata": {
        "id": "QmVFH1FPX85G"
      }
    },
    {
      "cell_type": "code",
      "source": [
        "# package import\n",
        "import numpy as np\n",
        "\n",
        "# module import\n",
        "import tensorflow as tf\n",
        "from tensorflow.keras.layers import Dense\n",
        "from tensorflow.keras.models import Sequential"
      ],
      "metadata": {
        "id": "9rLw4FJLUhtg"
      },
      "execution_count": null,
      "outputs": []
    },
    {
      "cell_type": "markdown",
      "source": [
        "# Data"
      ],
      "metadata": {
        "id": "T_ttuPezsUHk"
      }
    },
    {
      "cell_type": "code",
      "source": [
        "# preprocess\n",
        "xs = np.array([-1.0, 0.0, 1.0, 2.0, 3.0, 4.0], dtype=float)\n",
        "ys = np.array([5.0, 6.0, 7.0, 8.0, 9.0, 10.0], dtype=float)"
      ],
      "metadata": {
        "id": "TFkxGxMHrpR0"
      },
      "execution_count": null,
      "outputs": []
    },
    {
      "cell_type": "markdown",
      "source": [
        "# Modeling"
      ],
      "metadata": {
        "id": "sLkVzPyGYEl9"
      }
    },
    {
      "cell_type": "code",
      "source": [
        "# modeling\n",
        "model = Sequential([\n",
        "    Dense(1, input_shape=[1]),\n",
        "])"
      ],
      "metadata": {
        "id": "TvrSvoODVteL"
      },
      "execution_count": null,
      "outputs": []
    },
    {
      "cell_type": "markdown",
      "source": [
        "# Compile: Choose Optimizer, loss function\n",
        "\n",
        "  optimizer: learning algorithm(sgd(Stochastic Gradient Descent), Adam)    \n",
        "  loss function: mse(Mean Squared Error), mae, Huber"
      ],
      "metadata": {
        "id": "P_HJwsDNW2yh"
      }
    },
    {
      "cell_type": "code",
      "source": [
        "# compile\n",
        "model.compile(optimizer = 'sgd', loss = 'mse')"
      ],
      "metadata": {
        "id": "k3ghqdOCVwNv"
      },
      "execution_count": null,
      "outputs": []
    },
    {
      "cell_type": "markdown",
      "source": [
        "# Fit"
      ],
      "metadata": {
        "id": "cT53bT-9YNAC"
      }
    },
    {
      "cell_type": "code",
      "source": [
        "# fit\n",
        "model.fit(xs, ys, epochs=1200, verbose=0)"
      ],
      "metadata": {
        "colab": {
          "base_uri": "https://localhost:8080/"
        },
        "id": "CIWtXzTuVyfy",
        "outputId": "709b3b9d-46ba-4304-f794-d743c11b9d48"
      },
      "execution_count": null,
      "outputs": [
        {
          "output_type": "execute_result",
          "data": {
            "text/plain": [
              "<keras.callbacks.History at 0x79b1b3f49960>"
            ]
          },
          "metadata": {},
          "execution_count": 5
        }
      ]
    },
    {
      "cell_type": "markdown",
      "source": [
        "# Predict"
      ],
      "metadata": {
        "id": "FLehnp7XYPtB"
      }
    },
    {
      "cell_type": "code",
      "source": [
        "# predict\n",
        "model.predict([10,0])"
      ],
      "metadata": {
        "colab": {
          "base_uri": "https://localhost:8080/"
        },
        "id": "hQHoxs-pV2QR",
        "outputId": "8cf44176-d773-4d5c-8232-5245eb2031f3"
      },
      "execution_count": null,
      "outputs": [
        {
          "output_type": "stream",
          "name": "stdout",
          "text": [
            "1/1 [==============================] - 0s 83ms/step\n"
          ]
        },
        {
          "output_type": "execute_result",
          "data": {
            "text/plain": [
              "array([[16.000046],\n",
              "       [ 5.999978]], dtype=float32)"
            ]
          },
          "metadata": {},
          "execution_count": 6
        }
      ]
    }
  ]
}
