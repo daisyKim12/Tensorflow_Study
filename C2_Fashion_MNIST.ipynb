{
  "nbformat": 4,
  "nbformat_minor": 0,
  "metadata": {
    "colab": {
      "provenance": [],
      "gpuType": "T4",
      "authorship_tag": "ABX9TyMoF2sWTF04mjrFQcZdB2CB",
      "include_colab_link": true
    },
    "kernelspec": {
      "name": "python3",
      "display_name": "Python 3"
    },
    "language_info": {
      "name": "python"
    },
    "accelerator": "GPU"
  },
  "cells": [
    {
      "cell_type": "markdown",
      "metadata": {
        "id": "view-in-github",
        "colab_type": "text"
      },
      "source": [
        "<a href=\"https://colab.research.google.com/github/daisyKim12/Tensorflow_Study/blob/main/Lecture_C2_Fashion_MNIST.ipynb\" target=\"_parent\"><img src=\"https://colab.research.google.com/assets/colab-badge.svg\" alt=\"Open In Colab\"/></a>"
      ]
    },
    {
      "cell_type": "markdown",
      "source": [
        "#Category 2\n",
        "Use fully connected layer to make a image classification model"
      ],
      "metadata": {
        "id": "pOAXS8_vbHey"
      }
    },
    {
      "cell_type": "markdown",
      "source": [
        "#Problem\n",
        "\n",
        "Fashion MNIST 데이터 셋에 대한 분류기 테스트는 10개의 클래스를 분류할 것으로 예상하고 입력 모양은 Fashion MNIST 데이터 셋의 기본 크기이어야 합니다. 28x28 단색. 데이터 크기를 조정하지 말고 input_space는 반드시 (28x28)의 크기를 사용합니다."
      ],
      "metadata": {
        "id": "6koVQV0VbTBG"
      }
    },
    {
      "cell_type": "markdown",
      "source": [
        "#Import"
      ],
      "metadata": {
        "id": "zWQ6dCAtbscJ"
      }
    },
    {
      "cell_type": "code",
      "source": [
        "import numpy as np\n",
        "import matplotlib.pyplot as plt\n",
        "import tensorflow as tf\n",
        "\n",
        "from tensorflow.keras.layers import Dense, Flatten\n",
        "from tensorflow.keras.models import Sequential\n",
        "from tensorflow.keras.callbacks import ModelCheckpoint"
      ],
      "metadata": {
        "id": "LJG2RiLTb6TP"
      },
      "execution_count": 1,
      "outputs": []
    },
    {
      "cell_type": "markdown",
      "source": [
        "# Load Data"
      ],
      "metadata": {
        "id": "3sb0kod6ng_d"
      }
    },
    {
      "cell_type": "markdown",
      "source": [
        "tf.keras.datasets provides various datas\n",
        "\n",
        "* boston_housing\n",
        "* cifar10\n",
        "* cifar100\n",
        "* fashion_mnist\n",
        "* imdb\n",
        "* mnist\n",
        "* reuters"
      ],
      "metadata": {
        "id": "FIucpDy4fOhk"
      }
    },
    {
      "cell_type": "code",
      "source": [
        "fashion_mnist_dataset = tf.keras.datasets.fashion_mnist"
      ],
      "metadata": {
        "id": "EuytUbXPjyvU"
      },
      "execution_count": 2,
      "outputs": []
    },
    {
      "cell_type": "code",
      "source": [
        "fashion_mnist_dataset"
      ],
      "metadata": {
        "colab": {
          "base_uri": "https://localhost:8080/"
        },
        "id": "rvV76mQBmi45",
        "outputId": "fd91eb8d-0033-491b-f651-1ab65c5fc818"
      },
      "execution_count": 3,
      "outputs": [
        {
          "output_type": "execute_result",
          "data": {
            "text/plain": [
              "<module 'keras.api._v2.keras.datasets.fashion_mnist' from '/usr/local/lib/python3.10/dist-packages/keras/api/_v2/keras/datasets/fashion_mnist/__init__.py'>"
            ]
          },
          "metadata": {},
          "execution_count": 3
        }
      ]
    },
    {
      "cell_type": "markdown",
      "source": [
        "when using `tf.keras.datasets` must use `load_data()` to extract data"
      ],
      "metadata": {
        "id": "t1wclgIhma3p"
      }
    },
    {
      "cell_type": "code",
      "source": [
        "(x_train, y_train), (x_valid, y_valid) = fashion_mnist_dataset.load_data()"
      ],
      "metadata": {
        "colab": {
          "base_uri": "https://localhost:8080/"
        },
        "id": "JcJ8KPyCj-qW",
        "outputId": "11e9bc19-21cf-41db-c59f-53cab21c995c"
      },
      "execution_count": 4,
      "outputs": [
        {
          "output_type": "stream",
          "name": "stdout",
          "text": [
            "Downloading data from https://storage.googleapis.com/tensorflow/tf-keras-datasets/train-labels-idx1-ubyte.gz\n",
            "29515/29515 [==============================] - 0s 0us/step\n",
            "Downloading data from https://storage.googleapis.com/tensorflow/tf-keras-datasets/train-images-idx3-ubyte.gz\n",
            "26421880/26421880 [==============================] - 0s 0us/step\n",
            "Downloading data from https://storage.googleapis.com/tensorflow/tf-keras-datasets/t10k-labels-idx1-ubyte.gz\n",
            "5148/5148 [==============================] - 0s 0us/step\n",
            "Downloading data from https://storage.googleapis.com/tensorflow/tf-keras-datasets/t10k-images-idx3-ubyte.gz\n",
            "4422102/4422102 [==============================] - 0s 0us/step\n"
          ]
        }
      ]
    },
    {
      "cell_type": "markdown",
      "source": [
        "using `.shape()` to check size and dimension"
      ],
      "metadata": {
        "id": "cUTkZPp2nNY8"
      }
    },
    {
      "cell_type": "code",
      "source": [
        "x_train.shape, y_train.shape"
      ],
      "metadata": {
        "colab": {
          "base_uri": "https://localhost:8080/"
        },
        "id": "6kDR5rewmr7n",
        "outputId": "96be6dfd-548e-483c-caad-0a53afc6d017"
      },
      "execution_count": 5,
      "outputs": [
        {
          "output_type": "execute_result",
          "data": {
            "text/plain": [
              "((60000, 28, 28), (60000,))"
            ]
          },
          "metadata": {},
          "execution_count": 5
        }
      ]
    },
    {
      "cell_type": "code",
      "source": [
        "x_valid.shape, y_valid.shape"
      ],
      "metadata": {
        "colab": {
          "base_uri": "https://localhost:8080/"
        },
        "id": "yroBTeNwm2iK",
        "outputId": "eabf7379-67d4-4485-ed8a-80a7ace97829"
      },
      "execution_count": 6,
      "outputs": [
        {
          "output_type": "execute_result",
          "data": {
            "text/plain": [
              "((10000, 28, 28), (10000,))"
            ]
          },
          "metadata": {},
          "execution_count": 6
        }
      ]
    },
    {
      "cell_type": "markdown",
      "source": [
        "# Normalization\n",
        "* Change pixel value into 0~1 value by dividing by 255\n",
        "* __Caution__ Normalization is only for __Feature(x)__ data not for __Label(Y)__\n",
        "* By normalizing 2~3% of performance improvment is expected"
      ],
      "metadata": {
        "id": "3AufgVjem9TN"
      }
    },
    {
      "cell_type": "markdown",
      "source": [
        "before normalization check max, min value"
      ],
      "metadata": {
        "id": "IUAcPzfin886"
      }
    },
    {
      "cell_type": "code",
      "source": [
        "x_train.min(), x_train.max()"
      ],
      "metadata": {
        "colab": {
          "base_uri": "https://localhost:8080/"
        },
        "id": "Q1Zd9nrHoDkj",
        "outputId": "762cfeac-0ace-40c7-e145-8b55e082f11f"
      },
      "execution_count": 7,
      "outputs": [
        {
          "output_type": "execute_result",
          "data": {
            "text/plain": [
              "(0, 255)"
            ]
          },
          "metadata": {},
          "execution_count": 7
        }
      ]
    },
    {
      "cell_type": "code",
      "source": [
        "x_train = x_train / 255.0\n",
        "x_valid = x_valid / 255.0"
      ],
      "metadata": {
        "id": "mcBybQLdoPUZ"
      },
      "execution_count": 8,
      "outputs": []
    },
    {
      "cell_type": "code",
      "source": [
        "x_train.min(), x_train.max()"
      ],
      "metadata": {
        "colab": {
          "base_uri": "https://localhost:8080/"
        },
        "id": "mt8WoQ8cogUo",
        "outputId": "a7a80720-c70e-42a7-8372-b7283399d3f1"
      },
      "execution_count": 9,
      "outputs": [
        {
          "output_type": "execute_result",
          "data": {
            "text/plain": [
              "(0.0, 1.0)"
            ]
          },
          "metadata": {},
          "execution_count": 9
        }
      ]
    },
    {
      "cell_type": "markdown",
      "source": [
        "# Data Visualization"
      ],
      "metadata": {
        "id": "v8lXerM0okay"
      }
    },
    {
      "cell_type": "code",
      "source": [
        "fig, axes = plt.subplots(2, 5)\n",
        "fig.set_size_inches(10, 5)\n",
        "\n",
        "for i in range(10):\n",
        "    axes[i//5, i%5].imshow(x_train[i], cmap='gray')\n",
        "    axes[i//5, i%5].set_title(str(y_train[i]), fontsize=15)\n",
        "    plt.setp( axes[i//5, i%5].get_xticklabels(), visible=False)\n",
        "    plt.setp( axes[i//5, i%5].get_yticklabels(), visible=False)\n",
        "    axes[i//5, i%5].axis('off')\n",
        "\n",
        "plt.tight_layout()\n",
        "plt.show()"
      ],
      "metadata": {
        "colab": {
          "base_uri": "https://localhost:8080/",
          "height": 475
        },
        "id": "CWDoTHo0nYRW",
        "outputId": "688cddf4-2c31-4ae7-96f8-4a6c435bed08"
      },
      "execution_count": 10,
      "outputs": [
        {
          "output_type": "display_data",
          "data": {
            "text/plain": [
              "<Figure size 1000x500 with 10 Axes>"
            ],
            "image/png": "[encoded data removed]"
          },
          "metadata": {}
        }
      ]
    },
    {
      "cell_type": "markdown",
      "source": [
        "#Flatten Layer\n",
        "Flatten layer change high dimension data into 1D data in order to pass it to Dense Layer. Often used in Image Classification."
      ],
      "metadata": {
        "id": "4QLKz_oOz3Sd"
      }
    },
    {
      "cell_type": "code",
      "source": [
        "x_train.shape"
      ],
      "metadata": {
        "colab": {
          "base_uri": "https://localhost:8080/"
        },
        "id": "IzNIs-eK0NIC",
        "outputId": "8c54b520-da22-439d-fa3d-d3a900c88209"
      },
      "execution_count": 11,
      "outputs": [
        {
          "output_type": "execute_result",
          "data": {
            "text/plain": [
              "(60000, 28, 28)"
            ]
          },
          "metadata": {},
          "execution_count": 11
        }
      ]
    },
    {
      "cell_type": "code",
      "source": [
        "x = Flatten(input_shape=(28,28))\n",
        "print(x(x_train).shape)"
      ],
      "metadata": {
        "colab": {
          "base_uri": "https://localhost:8080/"
        },
        "id": "n0Bzb4zw0O-o",
        "outputId": "ecdf5294-97d5-4d4c-8d9c-abedaa24b533"
      },
      "execution_count": 12,
      "outputs": [
        {
          "output_type": "stream",
          "name": "stdout",
          "text": [
            "(60000, 784)\n"
          ]
        }
      ]
    },
    {
      "cell_type": "markdown",
      "source": [
        "#Modeling"
      ],
      "metadata": {
        "id": "tyV_nCbzcHnS"
      }
    },
    {
      "cell_type": "markdown",
      "source": [
        "* When classifying image one must use __Flatten Layer__ to change 2D into 1D\n",
        "* With more complicated problems enlarging the number of node and layer will help\n",
        "* __Caution__: Number of node in the output layout must match the number of classification"
      ],
      "metadata": {
        "id": "rY5G0ipT2NfT"
      }
    },
    {
      "cell_type": "code",
      "source": [
        "model = Sequential([\n",
        "    Flatten(input_shape=(28,28)),\n",
        "    Dense(1024, activation='relu'),\n",
        "    Dense(512, activation='relu'),\n",
        "    Dense(256, activation='relu'),\n",
        "    Dense(128, activation='relu'),\n",
        "    Dense(64, activation='relu'),\n",
        "    Dense(10, activation='softmax'),\n",
        "])"
      ],
      "metadata": {
        "id": "6S90tzr7cMru"
      },
      "execution_count": 13,
      "outputs": []
    },
    {
      "cell_type": "code",
      "source": [
        "model.summary()"
      ],
      "metadata": {
        "colab": {
          "base_uri": "https://localhost:8080/"
        },
        "id": "Ak-K546i1sIg",
        "outputId": "3f08ef5c-1844-401f-b067-65413b848dc4"
      },
      "execution_count": 14,
      "outputs": [
        {
          "output_type": "stream",
          "name": "stdout",
          "text": [
            "Model: \"sequential\"\n",
            "_________________________________________________________________\n",
            " Layer (type)                Output Shape              Param #   \n",
            "=================================================================\n",
            " flatten_1 (Flatten)         (None, 784)               0         \n",
            "                                                                 \n",
            " dense (Dense)               (None, 1024)              803840    \n",
            "                                                                 \n",
            " dense_1 (Dense)             (None, 512)               524800    \n",
            "                                                                 \n",
            " dense_2 (Dense)             (None, 256)               131328    \n",
            "                                                                 \n",
            " dense_3 (Dense)             (None, 128)               32896     \n",
            "                                                                 \n",
            " dense_4 (Dense)             (None, 64)                8256      \n",
            "                                                                 \n",
            " dense_5 (Dense)             (None, 10)                650       \n",
            "                                                                 \n",
            "=================================================================\n",
            "Total params: 1,501,770\n",
            "Trainable params: 1,501,770\n",
            "Non-trainable params: 0\n",
            "_________________________________________________________________\n"
          ]
        }
      ]
    },
    {
      "cell_type": "markdown",
      "source": [
        "#Compile"
      ],
      "metadata": {
        "id": "koQSSOtrcNUE"
      }
    },
    {
      "cell_type": "markdown",
      "source": [
        "1. optimizer: adam\n",
        "2. loss function:   \n",
        "  * For output layer with activation function sigmoid: binary_crossentropy\n",
        "  * For output layer with activation function softmax:\n",
        "    * One-hot-encoded(o): categorical_crossentropy\n",
        "    * One-hot-encoded(x): sparse_categorical_crossentropy\n",
        "3. Setting metrics to 'acc', we can monitor model accuracy while learnin."
      ],
      "metadata": {
        "id": "YJUOahBXcQX2"
      }
    },
    {
      "cell_type": "markdown",
      "source": [
        "**How to check if Label data is One-hot-encoded or not**"
      ],
      "metadata": {
        "id": "RWGTNLgK4Ekd"
      }
    },
    {
      "cell_type": "markdown",
      "source": [
        "case 1: not encoded"
      ],
      "metadata": {
        "id": "I8pQC8Bb4PMT"
      }
    },
    {
      "cell_type": "code",
      "source": [
        "y_train[0]"
      ],
      "metadata": {
        "colab": {
          "base_uri": "https://localhost:8080/"
        },
        "id": "tOYSHtc84YyI",
        "outputId": "a81ca399-b93d-41d6-bc5c-865f672c3f00"
      },
      "execution_count": 15,
      "outputs": [
        {
          "output_type": "execute_result",
          "data": {
            "text/plain": [
              "9"
            ]
          },
          "metadata": {},
          "execution_count": 15
        }
      ]
    },
    {
      "cell_type": "markdown",
      "source": [
        "case 2: encoded"
      ],
      "metadata": {
        "id": "wkfBjdoH4cWf"
      }
    },
    {
      "cell_type": "code",
      "source": [
        "print(tf.one_hot(y_train[0],10))"
      ],
      "metadata": {
        "colab": {
          "base_uri": "https://localhost:8080/"
        },
        "id": "fy2NKdx_4iwS",
        "outputId": "5375f9ab-ddbe-4bad-f89a-479a48d98aff"
      },
      "execution_count": 16,
      "outputs": [
        {
          "output_type": "stream",
          "name": "stdout",
          "text": [
            "tf.Tensor([0. 0. 0. 0. 0. 0. 0. 0. 0. 1.], shape=(10,), dtype=float32)\n"
          ]
        }
      ]
    },
    {
      "cell_type": "markdown",
      "source": [
        "**model.compile()**"
      ],
      "metadata": {
        "id": "oSvmlbUO4oiS"
      }
    },
    {
      "cell_type": "code",
      "source": [
        "model.compile(optimizer='adam', loss='sparse_categorical_crossentropy', metrics=['acc'])"
      ],
      "metadata": {
        "id": "uEoY8nDz4vyw"
      },
      "execution_count": 17,
      "outputs": []
    },
    {
      "cell_type": "markdown",
      "source": [
        "# ModelCheckpoint"
      ],
      "metadata": {
        "id": "eAk1a8k648ep"
      }
    },
    {
      "cell_type": "markdown",
      "source": [
        "Using `val_loss` to monitor the performance of the model, in every epoch save the model weight with lowest `val_loss`"
      ],
      "metadata": {
        "id": "Qjd3gLCS5IUj"
      }
    },
    {
      "cell_type": "code",
      "source": [
        "checkpoint_path = \"my_checkpoint.ckpt\"\n",
        "checkpoint = ModelCheckpoint(filepath=checkpoint_path,\n",
        "                             save_weights_only = True,\n",
        "                             save_best_only = True,\n",
        "                             monitor = 'val_loss',\n",
        "                             verbose=1)"
      ],
      "metadata": {
        "id": "Q4kgwb7f5dfi"
      },
      "execution_count": 18,
      "outputs": []
    },
    {
      "cell_type": "markdown",
      "source": [
        "#Fit"
      ],
      "metadata": {
        "id": "xpxr2uZ0cQno"
      }
    },
    {
      "cell_type": "code",
      "source": [
        "history = model.fit(x_train, y_train,\n",
        "                    validation_data = (x_valid, y_valid),\n",
        "                    epochs = 20,\n",
        "                    callbacks=[checkpoint],\n",
        "                    )"
      ],
      "metadata": {
        "colab": {
          "base_uri": "https://localhost:8080/"
        },
        "id": "pScyk7PkcSPR",
        "outputId": "9f61a208-e95e-4f66-9399-6657b71f8aed"
      },
      "execution_count": 19,
      "outputs": [
        {
          "output_type": "stream",
          "name": "stdout",
          "text": [
            "Epoch 1/20\n",
            "1866/1875 [============================>.] - ETA: 0s - loss: 0.4980 - acc: 0.8204\n",
            "Epoch 1: val_loss improved from inf to 0.50878, saving model to my_checkpoint.ckpt\n",
            "1875/1875 [==============================] - 15s 5ms/step - loss: 0.4971 - acc: 0.8207 - val_loss: 0.5088 - val_acc: 0.8265\n",
            "Epoch 2/20\n",
            "1873/1875 [============================>.] - ETA: 0s - loss: 0.3767 - acc: 0.8631\n",
            "Epoch 2: val_loss improved from 0.50878 to 0.41259, saving model to my_checkpoint.ckpt\n",
            "1875/1875 [==============================] - 8s 4ms/step - loss: 0.3767 - acc: 0.8631 - val_loss: 0.4126 - val_acc: 0.8572\n",
            "Epoch 3/20\n",
            "1869/1875 [============================>.] - ETA: 0s - loss: 0.3380 - acc: 0.8770\n",
            "Epoch 3: val_loss improved from 0.41259 to 0.37921, saving model to my_checkpoint.ckpt\n",
            "1875/1875 [==============================] - 9s 5ms/step - loss: 0.3378 - acc: 0.8770 - val_loss: 0.3792 - val_acc: 0.8621\n",
            "Epoch 4/20\n",
            "1875/1875 [==============================] - ETA: 0s - loss: 0.3166 - acc: 0.8830\n",
            "Epoch 4: val_loss did not improve from 0.37921\n",
            "1875/1875 [==============================] - 8s 4ms/step - loss: 0.3166 - acc: 0.8830 - val_loss: 0.3928 - val_acc: 0.8622\n",
            "Epoch 5/20\n",
            "1873/1875 [============================>.] - ETA: 0s - loss: 0.2982 - acc: 0.8913\n",
            "Epoch 5: val_loss improved from 0.37921 to 0.35579, saving model to my_checkpoint.ckpt\n",
            "1875/1875 [==============================] - 8s 4ms/step - loss: 0.2980 - acc: 0.8913 - val_loss: 0.3558 - val_acc: 0.8717\n",
            "Epoch 6/20\n",
            "1871/1875 [============================>.] - ETA: 0s - loss: 0.2815 - acc: 0.8950\n",
            "Epoch 6: val_loss improved from 0.35579 to 0.33295, saving model to my_checkpoint.ckpt\n",
            "1875/1875 [==============================] - 8s 4ms/step - loss: 0.2815 - acc: 0.8950 - val_loss: 0.3330 - val_acc: 0.8786\n",
            "Epoch 7/20\n",
            "1875/1875 [==============================] - ETA: 0s - loss: 0.2692 - acc: 0.9011\n",
            "Epoch 7: val_loss did not improve from 0.33295\n",
            "1875/1875 [==============================] - 8s 4ms/step - loss: 0.2692 - acc: 0.9011 - val_loss: 0.3467 - val_acc: 0.8823\n",
            "Epoch 8/20\n",
            "1870/1875 [============================>.] - ETA: 0s - loss: 0.2590 - acc: 0.9022\n",
            "Epoch 8: val_loss did not improve from 0.33295\n",
            "1875/1875 [==============================] - 8s 4ms/step - loss: 0.2590 - acc: 0.9022 - val_loss: 0.3548 - val_acc: 0.8765\n",
            "Epoch 9/20\n",
            "1870/1875 [============================>.] - ETA: 0s - loss: 0.2482 - acc: 0.9070\n",
            "Epoch 9: val_loss did not improve from 0.33295\n",
            "1875/1875 [==============================] - 9s 5ms/step - loss: 0.2482 - acc: 0.9070 - val_loss: 0.3332 - val_acc: 0.8852\n",
            "Epoch 10/20\n",
            "1872/1875 [============================>.] - ETA: 0s - loss: 0.2370 - acc: 0.9107\n",
            "Epoch 10: val_loss did not improve from 0.33295\n",
            "1875/1875 [==============================] - 8s 5ms/step - loss: 0.2372 - acc: 0.9107 - val_loss: 0.3382 - val_acc: 0.8814\n",
            "Epoch 11/20\n",
            "1862/1875 [============================>.] - ETA: 0s - loss: 0.2303 - acc: 0.9137\n",
            "Epoch 11: val_loss did not improve from 0.33295\n",
            "1875/1875 [==============================] - 8s 4ms/step - loss: 0.2306 - acc: 0.9136 - val_loss: 0.3358 - val_acc: 0.8875\n",
            "Epoch 12/20\n",
            "1866/1875 [============================>.] - ETA: 0s - loss: 0.2197 - acc: 0.9176\n",
            "Epoch 12: val_loss did not improve from 0.33295\n",
            "1875/1875 [==============================] - 8s 4ms/step - loss: 0.2199 - acc: 0.9176 - val_loss: 0.3529 - val_acc: 0.8870\n",
            "Epoch 13/20\n",
            "1872/1875 [============================>.] - ETA: 0s - loss: 0.2161 - acc: 0.9176\n",
            "Epoch 13: val_loss improved from 0.33295 to 0.32662, saving model to my_checkpoint.ckpt\n",
            "1875/1875 [==============================] - 9s 5ms/step - loss: 0.2161 - acc: 0.9176 - val_loss: 0.3266 - val_acc: 0.8885\n",
            "Epoch 14/20\n",
            "1869/1875 [============================>.] - ETA: 0s - loss: 0.2099 - acc: 0.9214\n",
            "Epoch 14: val_loss did not improve from 0.32662\n",
            "1875/1875 [==============================] - 8s 4ms/step - loss: 0.2099 - acc: 0.9213 - val_loss: 0.3346 - val_acc: 0.8875\n",
            "Epoch 15/20\n",
            "1872/1875 [============================>.] - ETA: 0s - loss: 0.2018 - acc: 0.9242\n",
            "Epoch 15: val_loss did not improve from 0.32662\n",
            "1875/1875 [==============================] - 11s 6ms/step - loss: 0.2017 - acc: 0.9242 - val_loss: 0.3675 - val_acc: 0.8868\n",
            "Epoch 16/20\n",
            "1865/1875 [============================>.] - ETA: 0s - loss: 0.1972 - acc: 0.9256\n",
            "Epoch 16: val_loss did not improve from 0.32662\n",
            "1875/1875 [==============================] - 10s 5ms/step - loss: 0.1977 - acc: 0.9255 - val_loss: 0.3952 - val_acc: 0.8882\n",
            "Epoch 17/20\n",
            "1867/1875 [============================>.] - ETA: 0s - loss: 0.1951 - acc: 0.9269\n",
            "Epoch 17: val_loss did not improve from 0.32662\n",
            "1875/1875 [==============================] - 10s 6ms/step - loss: 0.1952 - acc: 0.9269 - val_loss: 0.3704 - val_acc: 0.8894\n",
            "Epoch 18/20\n",
            "1866/1875 [============================>.] - ETA: 0s - loss: 0.1848 - acc: 0.9313\n",
            "Epoch 18: val_loss did not improve from 0.32662\n",
            "1875/1875 [==============================] - 10s 5ms/step - loss: 0.1848 - acc: 0.9312 - val_loss: 0.3459 - val_acc: 0.8901\n",
            "Epoch 19/20\n",
            "1869/1875 [============================>.] - ETA: 0s - loss: 0.1812 - acc: 0.9321\n",
            "Epoch 19: val_loss did not improve from 0.32662\n",
            "1875/1875 [==============================] - 10s 6ms/step - loss: 0.1812 - acc: 0.9321 - val_loss: 0.3750 - val_acc: 0.8919\n",
            "Epoch 20/20\n",
            "1860/1875 [============================>.] - ETA: 0s - loss: 0.1793 - acc: 0.9328\n",
            "Epoch 20: val_loss did not improve from 0.32662\n",
            "1875/1875 [==============================] - 11s 6ms/step - loss: 0.1795 - acc: 0.9329 - val_loss: 0.3543 - val_acc: 0.8929\n"
          ]
        }
      ]
    },
    {
      "cell_type": "markdown",
      "source": [
        "__Caution__ Make sure after learning process is finished load_weight from checkpoint to load the weight checkpoint is saving, which is the weight of the lowest val_loss"
      ],
      "metadata": {
        "id": "M5trltiQ6Jff"
      }
    },
    {
      "cell_type": "code",
      "source": [
        "model.load_weights(checkpoint_path)"
      ],
      "metadata": {
        "colab": {
          "base_uri": "https://localhost:8080/"
        },
        "id": "5Ps4QybH7B2I",
        "outputId": "81acb54c-1190-4060-898d-4d173298eb5c"
      },
      "execution_count": 20,
      "outputs": [
        {
          "output_type": "execute_result",
          "data": {
            "text/plain": [
              "<tensorflow.python.checkpoint.checkpoint.CheckpointLoadStatus at 0x7d4b1857fa30>"
            ]
          },
          "metadata": {},
          "execution_count": 20
        }
      ]
    },
    {
      "cell_type": "markdown",
      "source": [
        "#Predict\n"
      ],
      "metadata": {
        "id": "Zb9IFVrtcTkQ"
      }
    },
    {
      "cell_type": "code",
      "source": [
        "model.evaluate(x_valid, y_valid)"
      ],
      "metadata": {
        "colab": {
          "base_uri": "https://localhost:8080/"
        },
        "id": "ciUglA6b7I6Q",
        "outputId": "7658db24-fd2a-4853-a4ea-1337ded11929"
      },
      "execution_count": 21,
      "outputs": [
        {
          "output_type": "stream",
          "name": "stdout",
          "text": [
            "313/313 [==============================] - 1s 4ms/step - loss: 0.3266 - acc: 0.8885\n"
          ]
        },
        {
          "output_type": "execute_result",
          "data": {
            "text/plain": [
              "[0.3266199827194214, 0.8884999752044678]"
            ]
          },
          "metadata": {},
          "execution_count": 21
        }
      ]
    },
    {
      "cell_type": "code",
      "source": [
        "plt.figure(figsize=(12, 9))\n",
        "plt.plot(np.arange(1, 21), history.history['loss'])\n",
        "plt.plot(np.arange(1, 21), history.history['val_loss'])\n",
        "plt.title('Loss / Val Loss', fontsize=20)\n",
        "plt.xlabel('Epochs')\n",
        "plt.ylabel('Loss')\n",
        "plt.legend(['loss', 'val_loss'], fontsize=15)\n",
        "plt.show()"
      ],
      "metadata": {
        "colab": {
          "base_uri": "https://localhost:8080/",
          "height": 803
        },
        "id": "KTzcCH0S7OBH",
        "outputId": "e89fa330-3d33-4dea-d825-20d2d9bbf141"
      },
      "execution_count": 22,
      "outputs": [
        {
          "output_type": "display_data",
          "data": {
            "text/plain": [
              "<Figure size 1200x900 with 1 Axes>"
            ],
            "image/png": "[encoded data removed]"
          },
          "metadata": {}
        }
      ]
    },
    {
      "cell_type": "code",
      "source": [
        "plt.figure(figsize=(12, 9))\n",
        "plt.plot(np.arange(1, 21), history.history['acc'])\n",
        "plt.plot(np.arange(1, 21), history.history['val_acc'])\n",
        "plt.title('Acc / Val Acc', fontsize=20)\n",
        "plt.xlabel('Epochs')\n",
        "plt.ylabel('Acc')\n",
        "plt.legend(['acc', 'val_acc'], fontsize=15)\n",
        "plt.show()"
      ],
      "metadata": {
        "colab": {
          "base_uri": "https://localhost:8080/",
          "height": 803
        },
        "id": "oDbZNIdR7Tv6",
        "outputId": "78b4c3ef-bc0d-4b5c-c544-3335fa8deec8"
      },
      "execution_count": 23,
      "outputs": [
        {
          "output_type": "display_data",
          "data": {
            "text/plain": [
              "<Figure size 1200x900 with 1 Axes>"
            ],
            "image/png": "[encoded data removed]"
          },
          "metadata": {}
        }
      ]
    },
    {
      "cell_type": "code",
      "source": [],
      "metadata": {
        "id": "8BROrGqZygyd"
      },
      "execution_count": null,
      "outputs": []
    }
  ]
}
