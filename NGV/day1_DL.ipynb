{
  "cells": [
    {
      "cell_type": "markdown",
      "metadata": {
        "id": "rRJoLCzjqZh_"
      },
      "source": [
        "#day1-DeepLearning"
      ]
    },
    {
      "cell_type": "markdown",
      "metadata": {
        "id": "-lLCZB1uqqOK"
      },
      "source": [
        "## Before Deep Learning\n",
        "Machine Learning\n",
        "- 통계적 수학적 기법으로 모형을 설계\n",
        "- 컴퓨터가 모형을 바탕으로 데이터로부터 학습\n",
        "- 학습의 형태\n",
        " - 지도 학습 x 와 y 가 짝지어진 형태의 데이터에서 관계를 학습\n",
        " - 비지도학습 데이터의 내재적 구조를 학습\n",
        " - 강화학습 환경과 상호작용하여 가장 많은 보상을 받는 행동을 학습\n",
        "\n",
        "Artificial neural network\n",
        "- 생물학적 신경망에서 영감을 받은 머신러닝 모델\n",
        "- 인공 뉴런은 입력값을 가중합하고 , 그 결과에 활성화 함수를 적용하여 출력\n",
        "- 인공 뉴런은 로지스틱 회귀분석과 거의 같음\n",
        "- 다층 신경망 : 뉴런들로 이뤄진 층을 만들고 , 이것을 여러 층으로 쌓은 것\n",
        "- 보편근사정리 : 충분히 큰 다층신경망은 어떤 함수도 모방할 수 있음"
      ]
    },
    {
      "cell_type": "markdown",
      "metadata": {
        "id": "I3cR1fyVrKSq"
      },
      "source": [
        "##Deep Learning\n",
        "- Before DL feature must be extracted by people to solve particular problem\n",
        "- **end-to-end**: Without extracting features manually, end-to-end learning do not need to tell the model which feature is needed. Only by passing the whole data it will extract feature that is relevent to the problem.\n",
        "- **representation learning**: Network internally learn features in order to solve the problem"
      ]
    },
    {
      "cell_type": "code",
      "execution_count": null,
      "metadata": {
        "id": "wsR1K_Y2sUJ_"
      },
      "outputs": [],
      "source": []
    }
  ],
  "metadata": {
    "colab": {
      "provenance": []
    },
    "kernelspec": {
      "display_name": "Python 3",
      "name": "python3"
    },
    "language_info": {
      "name": "python"
    }
  },
  "nbformat": 4,
  "nbformat_minor": 0
}
