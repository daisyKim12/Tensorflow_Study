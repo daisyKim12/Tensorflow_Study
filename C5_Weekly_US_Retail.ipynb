{
  "nbformat": 4,
  "nbformat_minor": 0,
  "metadata": {
    "colab": {
      "provenance": [],
      "gpuType": "T4",
      "authorship_tag": "ABX9TyO8uhmqTA6aA8vnduFaLKIP",
      "include_colab_link": true
    },
    "kernelspec": {
      "name": "python3",
      "display_name": "Python 3"
    },
    "language_info": {
      "name": "python"
    },
    "accelerator": "GPU"
  },
  "cells": [
    {
      "cell_type": "markdown",
      "metadata": {
        "id": "view-in-github",
        "colab_type": "text"
      },
      "source": [
        "<a href=\"https://colab.research.google.com/github/daisyKim12/Tensorflow_Study/blob/main/Lecture_C5_Weekly_US_Retail.ipynb\" target=\"_parent\"><img src=\"https://colab.research.google.com/assets/colab-badge.svg\" alt=\"Open In Colab\"/></a>"
      ]
    },
    {
      "cell_type": "markdown",
      "metadata": {
        "id": "5e1413d6"
      },
      "source": [
        "# Category 5\n",
        "\n",
        "Sequence"
      ]
    },
    {
      "cell_type": "markdown",
      "metadata": {
        "id": "2a909b6c"
      },
      "source": [
        "Build and train a neural network to predict the time indexed variable of the univariate US diesel prices (On - Highway) All types for the period of 1994 - 2021.\n",
        "\n",
        "Using a **window of past 10 observations of 1 feature** , train the model to predict the **next 10 observations** of that feature.\n",
        "\n",
        "If you follow all the rules mentioned above and throughout this\n",
        "question while training your neural network, there is a possibility that a\n",
        "validation **MAE of approximately 0.02 or less on the normalized validation\n",
        "dataset** may fetch you top marks."
      ]
    },
    {
      "cell_type": "markdown",
      "source": [
        "# Import, URL"
      ],
      "metadata": {
        "id": "PS9cuegPcyri"
      }
    },
    {
      "cell_type": "code",
      "source": [
        "import urllib\n",
        "import pandas as pd\n",
        "import tensorflow as tf\n",
        "from tensorflow.keras.layers import Dense, Conv1D, LSTM, Bidirectional\n",
        "from tensorflow.keras.models import Sequential\n",
        "from tensorflow.keras.callbacks import ModelCheckpoint"
      ],
      "metadata": {
        "id": "21calvqvc1sw"
      },
      "execution_count": null,
      "outputs": []
    },
    {
      "cell_type": "code",
      "source": [
        "url = 'https://www.dropbox.com/s/eduk281didil1km/Weekly_U.S.Diesel_Retail_Prices.csv?dl=1'\n",
        "urllib.request.urlretrieve(url, 'Weekly_U.S.Diesel_Retail_Prices.csv')"
      ],
      "metadata": {
        "colab": {
          "base_uri": "https://localhost:8080/"
        },
        "id": "TYJOsXc7c9wG",
        "outputId": "44d35044-8e68-4350-8dc0-291ca5d81085"
      },
      "execution_count": null,
      "outputs": [
        {
          "output_type": "execute_result",
          "data": {
            "text/plain": [
              "('Weekly_U.S.Diesel_Retail_Prices.csv',\n",
              " <http.client.HTTPMessage at 0x780fd4e133a0>)"
            ]
          },
          "metadata": {},
          "execution_count": 2
        }
      ]
    },
    {
      "cell_type": "code",
      "source": [
        "def normalize_series(data, min, max):\n",
        "    data = data - min\n",
        "    data = data / max\n",
        "    return data"
      ],
      "metadata": {
        "id": "Jb-bKjpqc_VA"
      },
      "execution_count": null,
      "outputs": []
    },
    {
      "cell_type": "code",
      "source": [
        "def windowed_dataset(series, batch_size, n_past=10, n_future=10, shift=1):\n",
        "    ds = tf.data.Dataset.from_tensor_slices(series)\n",
        "    ds = ds.window(size=n_past + n_future, shift=shift, drop_remainder=True)\n",
        "    ds = ds.flat_map(lambda w: w.batch(n_past + n_future))\n",
        "    ds = ds.map(lambda w: (w[:n_past], w[n_past:]))\n",
        "    return ds.batch(batch_size).prefetch(1)"
      ],
      "metadata": {
        "id": "MBwSReNbdB-K"
      },
      "execution_count": null,
      "outputs": []
    },
    {
      "cell_type": "code",
      "source": [
        "df = pd.read_csv('Weekly_U.S.Diesel_Retail_Prices.csv', infer_datetime_format = True, index_col='Week of', header=0)\n",
        "df.head(20)"
      ],
      "metadata": {
        "colab": {
          "base_uri": "https://localhost:8080/",
          "height": 708
        },
        "id": "1pnzZfFhdEBr",
        "outputId": "49a6c69e-7645-4b6d-e716-f7744fc32e3a"
      },
      "execution_count": null,
      "outputs": [
        {
          "output_type": "execute_result",
          "data": {
            "text/plain": [
              "            Weekly U.S. No 2 Diesel Retail Prices Dollars per Gallon\n",
              "Week of                                                             \n",
              "1994-03-21                                              1.106       \n",
              "1994-03-28                                              1.107       \n",
              "1994-04-04                                              1.109       \n",
              "1994-04-11                                              1.108       \n",
              "1994-04-18                                              1.105       \n",
              "1994-04-25                                              1.106       \n",
              "1994-05-02                                              1.104       \n",
              "1994-05-09                                              1.101       \n",
              "1994-05-16                                              1.099       \n",
              "1994-05-23                                              1.099       \n",
              "1994-05-30                                              1.098       \n",
              "1994-06-06                                              1.101       \n",
              "1994-06-13                                              1.098       \n",
              "1994-06-20                                              1.103       \n",
              "1994-06-27                                              1.108       \n",
              "1994-07-04                                              1.109       \n",
              "1994-07-11                                              1.110       \n",
              "1994-07-18                                              1.111       \n",
              "1994-07-25                                              1.111       \n",
              "1994-08-01                                              1.116       "
            ],
            "text/html": [
              "\n",
              "  <div id=\"df-e74d90e3-4669-45d6-ae3d-6e2be326f401\" class=\"colab-df-container\">\n",
              "    <div>\n",
              "<style scoped>\n",
              "    .dataframe tbody tr th:only-of-type {\n",
              "        vertical-align: middle;\n",
              "    }\n",
              "\n",
              "    .dataframe tbody tr th {\n",
              "        vertical-align: top;\n",
              "    }\n",
              "\n",
              "    .dataframe thead th {\n",
              "        text-align: right;\n",
              "    }\n",
              "</style>\n",
              "<table border=\"1\" class=\"dataframe\">\n",
              "  <thead>\n",
              "    <tr style=\"text-align: right;\">\n",
              "      <th></th>\n",
              "      <th>Weekly U.S. No 2 Diesel Retail Prices Dollars per Gallon</th>\n",
              "    </tr>\n",
              "    <tr>\n",
              "      <th>Week of</th>\n",
              "      <th></th>\n",
              "    </tr>\n",
              "  </thead>\n",
              "  <tbody>\n",
              "    <tr>\n",
              "      <th>1994-03-21</th>\n",
              "      <td>1.106</td>\n",
              "    </tr>\n",
              "    <tr>\n",
              "      <th>1994-03-28</th>\n",
              "      <td>1.107</td>\n",
              "    </tr>\n",
              "    <tr>\n",
              "      <th>1994-04-04</th>\n",
              "      <td>1.109</td>\n",
              "    </tr>\n",
              "    <tr>\n",
              "      <th>1994-04-11</th>\n",
              "      <td>1.108</td>\n",
              "    </tr>\n",
              "    <tr>\n",
              "      <th>1994-04-18</th>\n",
              "      <td>1.105</td>\n",
              "    </tr>\n",
              "    <tr>\n",
              "      <th>1994-04-25</th>\n",
              "      <td>1.106</td>\n",
              "    </tr>\n",
              "    <tr>\n",
              "      <th>1994-05-02</th>\n",
              "      <td>1.104</td>\n",
              "    </tr>\n",
              "    <tr>\n",
              "      <th>1994-05-09</th>\n",
              "      <td>1.101</td>\n",
              "    </tr>\n",
              "    <tr>\n",
              "      <th>1994-05-16</th>\n",
              "      <td>1.099</td>\n",
              "    </tr>\n",
              "    <tr>\n",
              "      <th>1994-05-23</th>\n",
              "      <td>1.099</td>\n",
              "    </tr>\n",
              "    <tr>\n",
              "      <th>1994-05-30</th>\n",
              "      <td>1.098</td>\n",
              "    </tr>\n",
              "    <tr>\n",
              "      <th>1994-06-06</th>\n",
              "      <td>1.101</td>\n",
              "    </tr>\n",
              "    <tr>\n",
              "      <th>1994-06-13</th>\n",
              "      <td>1.098</td>\n",
              "    </tr>\n",
              "    <tr>\n",
              "      <th>1994-06-20</th>\n",
              "      <td>1.103</td>\n",
              "    </tr>\n",
              "    <tr>\n",
              "      <th>1994-06-27</th>\n",
              "      <td>1.108</td>\n",
              "    </tr>\n",
              "    <tr>\n",
              "      <th>1994-07-04</th>\n",
              "      <td>1.109</td>\n",
              "    </tr>\n",
              "    <tr>\n",
              "      <th>1994-07-11</th>\n",
              "      <td>1.110</td>\n",
              "    </tr>\n",
              "    <tr>\n",
              "      <th>1994-07-18</th>\n",
              "      <td>1.111</td>\n",
              "    </tr>\n",
              "    <tr>\n",
              "      <th>1994-07-25</th>\n",
              "      <td>1.111</td>\n",
              "    </tr>\n",
              "    <tr>\n",
              "      <th>1994-08-01</th>\n",
              "      <td>1.116</td>\n",
              "    </tr>\n",
              "  </tbody>\n",
              "</table>\n",
              "</div>\n",
              "    <div class=\"colab-df-buttons\">\n",
              "\n",
              "  <div class=\"colab-df-container\">\n",
              "    <button class=\"colab-df-convert\" onclick=\"convertToInteractive('df-e74d90e3-4669-45d6-ae3d-6e2be326f401')\"\n",
              "            title=\"Convert this dataframe to an interactive table.\"\n",
              "            style=\"display:none;\">\n",
              "\n",
              "  <svg xmlns=\"http://www.w3.org/2000/svg\" height=\"24px\" viewBox=\"0 -960 960 960\">\n",
              "    <path d=\"M120-120v-720h720v720H120Zm60-500h600v-160H180v160Zm220 220h160v-160H400v160Zm0 220h160v-160H400v160ZM180-400h160v-160H180v160Zm440 0h160v-160H620v160ZM180-180h160v-160H180v160Zm440 0h160v-160H620v160Z\"/>\n",
              "  </svg>\n",
              "    </button>\n",
              "\n",
              "  <style>\n",
              "    .colab-df-container {\n",
              "      display:flex;\n",
              "      gap: 12px;\n",
              "    }\n",
              "\n",
              "    .colab-df-convert {\n",
              "      background-color: #E8F0FE;\n",
              "      border: none;\n",
              "      border-radius: 50%;\n",
              "      cursor: pointer;\n",
              "      display: none;\n",
              "      fill: #1967D2;\n",
              "      height: 32px;\n",
              "      padding: 0 0 0 0;\n",
              "      width: 32px;\n",
              "    }\n",
              "\n",
              "    .colab-df-convert:hover {\n",
              "      background-color: #E2EBFA;\n",
              "      box-shadow: 0px 1px 2px rgba(60, 64, 67, 0.3), 0px 1px 3px 1px rgba(60, 64, 67, 0.15);\n",
              "      fill: #174EA6;\n",
              "    }\n",
              "\n",
              "    .colab-df-buttons div {\n",
              "      margin-bottom: 4px;\n",
              "    }\n",
              "\n",
              "    [theme=dark] .colab-df-convert {\n",
              "      background-color: #3B4455;\n",
              "      fill: #D2E3FC;\n",
              "    }\n",
              "\n",
              "    [theme=dark] .colab-df-convert:hover {\n",
              "      background-color: #434B5C;\n",
              "      box-shadow: 0px 1px 3px 1px rgba(0, 0, 0, 0.15);\n",
              "      filter: drop-shadow(0px 1px 2px rgba(0, 0, 0, 0.3));\n",
              "      fill: #FFFFFF;\n",
              "    }\n",
              "  </style>\n",
              "\n",
              "    <script>\n",
              "      const buttonEl =\n",
              "        document.querySelector('#df-e74d90e3-4669-45d6-ae3d-6e2be326f401 button.colab-df-convert');\n",
              "      buttonEl.style.display =\n",
              "        google.colab.kernel.accessAllowed ? 'block' : 'none';\n",
              "\n",
              "      async function convertToInteractive(key) {\n",
              "        const element = document.querySelector('#df-e74d90e3-4669-45d6-ae3d-6e2be326f401');\n",
              "        const dataTable =\n",
              "          await google.colab.kernel.invokeFunction('convertToInteractive',\n",
              "                                                    [key], {});\n",
              "        if (!dataTable) return;\n",
              "\n",
              "        const docLinkHtml = 'Like what you see? Visit the ' +\n",
              "          '<a target=\"_blank\" href=https://colab.research.google.com/notebooks/data_table.ipynb>data table notebook</a>'\n",
              "          + ' to learn more about interactive tables.';\n",
              "        element.innerHTML = '';\n",
              "        dataTable['output_type'] = 'display_data';\n",
              "        await google.colab.output.renderOutput(dataTable, element);\n",
              "        const docLink = document.createElement('div');\n",
              "        docLink.innerHTML = docLinkHtml;\n",
              "        element.appendChild(docLink);\n",
              "      }\n",
              "    </script>\n",
              "  </div>\n",
              "\n",
              "\n",
              "<div id=\"df-f6d05364-28c5-49fb-8df3-b8cf0f4ceeb5\">\n",
              "  <button class=\"colab-df-quickchart\" onclick=\"quickchart('df-f6d05364-28c5-49fb-8df3-b8cf0f4ceeb5')\"\n",
              "            title=\"Suggest charts.\"\n",
              "            style=\"display:none;\">\n",
              "\n",
              "<svg xmlns=\"http://www.w3.org/2000/svg\" height=\"24px\"viewBox=\"0 0 24 24\"\n",
              "     width=\"24px\">\n",
              "    <g>\n",
              "        <path d=\"M19 3H5c-1.1 0-2 .9-2 2v14c0 1.1.9 2 2 2h14c1.1 0 2-.9 2-2V5c0-1.1-.9-2-2-2zM9 17H7v-7h2v7zm4 0h-2V7h2v10zm4 0h-2v-4h2v4z\"/>\n",
              "    </g>\n",
              "</svg>\n",
              "  </button>\n",
              "\n",
              "<style>\n",
              "  .colab-df-quickchart {\n",
              "    background-color: #E8F0FE;\n",
              "    border: none;\n",
              "    border-radius: 50%;\n",
              "    cursor: pointer;\n",
              "    display: none;\n",
              "    fill: #1967D2;\n",
              "    height: 32px;\n",
              "    padding: 0 0 0 0;\n",
              "    width: 32px;\n",
              "  }\n",
              "\n",
              "  .colab-df-quickchart:hover {\n",
              "    background-color: #E2EBFA;\n",
              "    box-shadow: 0px 1px 2px rgba(60, 64, 67, 0.3), 0px 1px 3px 1px rgba(60, 64, 67, 0.15);\n",
              "    fill: #174EA6;\n",
              "  }\n",
              "\n",
              "  [theme=dark] .colab-df-quickchart {\n",
              "    background-color: #3B4455;\n",
              "    fill: #D2E3FC;\n",
              "  }\n",
              "\n",
              "  [theme=dark] .colab-df-quickchart:hover {\n",
              "    background-color: #434B5C;\n",
              "    box-shadow: 0px 1px 3px 1px rgba(0, 0, 0, 0.15);\n",
              "    filter: drop-shadow(0px 1px 2px rgba(0, 0, 0, 0.3));\n",
              "    fill: #FFFFFF;\n",
              "  }\n",
              "</style>\n",
              "\n",
              "  <script>\n",
              "    async function quickchart(key) {\n",
              "      const charts = await google.colab.kernel.invokeFunction(\n",
              "          'suggestCharts', [key], {});\n",
              "    }\n",
              "    (() => {\n",
              "      let quickchartButtonEl =\n",
              "        document.querySelector('#df-f6d05364-28c5-49fb-8df3-b8cf0f4ceeb5 button');\n",
              "      quickchartButtonEl.style.display =\n",
              "        google.colab.kernel.accessAllowed ? 'block' : 'none';\n",
              "    })();\n",
              "  </script>\n",
              "</div>\n",
              "    </div>\n",
              "  </div>\n"
            ]
          },
          "metadata": {},
          "execution_count": 6
        }
      ]
    },
    {
      "cell_type": "code",
      "source": [
        "N_FEATURES = len(df.columns)\n",
        "N_FEATURES"
      ],
      "metadata": {
        "colab": {
          "base_uri": "https://localhost:8080/"
        },
        "id": "LsHzDVc7dgJi",
        "outputId": "59efc868-d58c-4ddb-e1ec-cefad5de4608"
      },
      "execution_count": null,
      "outputs": [
        {
          "output_type": "execute_result",
          "data": {
            "text/plain": [
              "1"
            ]
          },
          "metadata": {},
          "execution_count": 7
        }
      ]
    },
    {
      "cell_type": "markdown",
      "source": [
        "# Split dataset"
      ],
      "metadata": {
        "id": "tlReYPEudmRV"
      }
    },
    {
      "cell_type": "code",
      "source": [
        "# Normalize\n",
        "data = df.values\n",
        "data = normalize_series(data, data.min(axis=0), data.max(axis=0))\n",
        "\n",
        "# Split data\n",
        "SPLIT_TIME = int(len(data) * 0.8)\n",
        "x_train = data[:SPLIT_TIME]\n",
        "x_valid = data[SPLIT_TIME:]"
      ],
      "metadata": {
        "id": "LFpt7rQ2dsXI"
      },
      "execution_count": null,
      "outputs": []
    },
    {
      "cell_type": "code",
      "source": [
        "BATCH_SIZE = 32\n",
        "N_PAST = 10\n",
        "N_FUTURE = 10\n",
        "SHIFT = 1"
      ],
      "metadata": {
        "id": "VRlIQC2tduxx"
      },
      "execution_count": null,
      "outputs": []
    },
    {
      "cell_type": "code",
      "source": [
        "train_set = windowed_dataset(series=x_train, batch_size=BATCH_SIZE,\n",
        "                             n_past=N_PAST, n_future=N_FUTURE,\n",
        "                             shift=SHIFT)\n",
        "\n",
        "valid_set = windowed_dataset(series=x_valid, batch_size=BATCH_SIZE,\n",
        "                             n_past=N_PAST, n_future=N_FUTURE,\n",
        "                             shift=SHIFT)"
      ],
      "metadata": {
        "id": "gssXpV2jdwEL"
      },
      "execution_count": null,
      "outputs": []
    },
    {
      "cell_type": "markdown",
      "source": [
        "# Modeling, checkpoint, compile, fit, load, evaluate"
      ],
      "metadata": {
        "id": "GQp0HZF5dxgV"
      }
    },
    {
      "cell_type": "code",
      "source": [
        "model = Sequential([\n",
        "    Conv1D(filters=32, kernel_size=5, padding='causal', activation='relu', input_shape=[N_PAST, 1]),\n",
        "    Bidirectional(LSTM(32, return_sequences=True)),\n",
        "    Bidirectional(LSTM(32, return_sequences=True)),\n",
        "    Dense(32, activation='relu'),\n",
        "    Dense(16, activation='relu'),\n",
        "    Dense(N_FEATURES),\n",
        "])"
      ],
      "metadata": {
        "id": "R0OsjLpFd6-z"
      },
      "execution_count": null,
      "outputs": []
    },
    {
      "cell_type": "code",
      "source": [
        "checkpoint_path = 'model/my_checkpoint.ckpt'\n",
        "checkpoint = ModelCheckpoint(filepath=checkpoint_path,\n",
        "                             save_weights_only=True,\n",
        "                             save_best_only=True,\n",
        "                             monitor='val_mae',\n",
        "                             verbose=1)"
      ],
      "metadata": {
        "id": "hhf46r75ekYW"
      },
      "execution_count": null,
      "outputs": []
    },
    {
      "cell_type": "code",
      "source": [
        "optimizer = tf.keras.optimizers.Adam(0.0001)\n",
        "model.compile(optimizer = optimizer, loss = tf.keras.losses.Huber(), metrics=['mae'])"
      ],
      "metadata": {
        "id": "K2L5W_w3epau"
      },
      "execution_count": null,
      "outputs": []
    },
    {
      "cell_type": "code",
      "source": [
        "model.fit(train_set, validation_data = valid_set,\n",
        "          epochs=50,\n",
        "          callbacks=[checkpoint])"
      ],
      "metadata": {
        "colab": {
          "base_uri": "https://localhost:8080/"
        },
        "id": "kfAgiRC2enXD",
        "outputId": "05ac1c98-4b22-4c9a-8365-7ed0c7103f41"
      },
      "execution_count": null,
      "outputs": [
        {
          "output_type": "stream",
          "name": "stdout",
          "text": [
            "Epoch 1/50\n",
            "     32/Unknown - 19s 13ms/step - loss: 0.0465 - mae: 0.2308\n",
            "Epoch 1: val_mae improved from inf to 0.30319, saving model to model/my_checkpoint.ckpt\n",
            "35/35 [==============================] - 21s 62ms/step - loss: 0.0496 - mae: 0.2444 - val_loss: 0.0478 - val_mae: 0.3032\n",
            "Epoch 2/50\n",
            "33/35 [===========================>..] - ETA: 0s - loss: 0.0286 - mae: 0.1721\n",
            "Epoch 2: val_mae improved from 0.30319 to 0.19678, saving model to model/my_checkpoint.ckpt\n",
            "35/35 [==============================] - 1s 17ms/step - loss: 0.0283 - mae: 0.1741 - val_loss: 0.0209 - val_mae: 0.1968\n",
            "Epoch 3/50\n",
            "32/35 [==========================>...] - ETA: 0s - loss: 0.0111 - mae: 0.1153\n",
            "Epoch 3: val_mae improved from 0.19678 to 0.07862, saving model to model/my_checkpoint.ckpt\n",
            "35/35 [==============================] - 1s 20ms/step - loss: 0.0111 - mae: 0.1159 - val_loss: 0.0042 - val_mae: 0.0786\n",
            "Epoch 4/50\n",
            "32/35 [==========================>...] - ETA: 0s - loss: 0.0060 - mae: 0.0960\n",
            "Epoch 4: val_mae improved from 0.07862 to 0.03929, saving model to model/my_checkpoint.ckpt\n",
            "35/35 [==============================] - 1s 28ms/step - loss: 0.0057 - mae: 0.0932 - val_loss: 0.0013 - val_mae: 0.0393\n",
            "Epoch 5/50\n",
            "33/35 [===========================>..] - ETA: 0s - loss: 0.0055 - mae: 0.0910\n",
            "Epoch 5: val_mae improved from 0.03929 to 0.03826, saving model to model/my_checkpoint.ckpt\n",
            "35/35 [==============================] - 1s 29ms/step - loss: 0.0053 - mae: 0.0889 - val_loss: 0.0012 - val_mae: 0.0383\n",
            "Epoch 6/50\n",
            "35/35 [==============================] - ETA: 0s - loss: 0.0042 - mae: 0.0786\n",
            "Epoch 6: val_mae improved from 0.03826 to 0.03654, saving model to model/my_checkpoint.ckpt\n",
            "35/35 [==============================] - 1s 20ms/step - loss: 0.0042 - mae: 0.0786 - val_loss: 0.0011 - val_mae: 0.0365\n",
            "Epoch 7/50\n",
            "34/35 [============================>.] - ETA: 0s - loss: 0.0033 - mae: 0.0686\n",
            "Epoch 7: val_mae improved from 0.03654 to 0.03510, saving model to model/my_checkpoint.ckpt\n",
            "35/35 [==============================] - 1s 17ms/step - loss: 0.0033 - mae: 0.0679 - val_loss: 0.0011 - val_mae: 0.0351\n",
            "Epoch 8/50\n",
            "31/35 [=========================>....] - ETA: 0s - loss: 0.0027 - mae: 0.0604\n",
            "Epoch 8: val_mae improved from 0.03510 to 0.03366, saving model to model/my_checkpoint.ckpt\n",
            "35/35 [==============================] - 1s 18ms/step - loss: 0.0026 - mae: 0.0585 - val_loss: 9.8712e-04 - val_mae: 0.0337\n",
            "Epoch 9/50\n",
            "34/35 [============================>.] - ETA: 0s - loss: 0.0022 - mae: 0.0515\n",
            "Epoch 9: val_mae improved from 0.03366 to 0.03282, saving model to model/my_checkpoint.ckpt\n",
            "35/35 [==============================] - 1s 17ms/step - loss: 0.0022 - mae: 0.0511 - val_loss: 9.5400e-04 - val_mae: 0.0328\n",
            "Epoch 10/50\n",
            "35/35 [==============================] - ETA: 0s - loss: 0.0019 - mae: 0.0458\n",
            "Epoch 10: val_mae improved from 0.03282 to 0.03246, saving model to model/my_checkpoint.ckpt\n",
            "35/35 [==============================] - 1s 18ms/step - loss: 0.0019 - mae: 0.0458 - val_loss: 9.3965e-04 - val_mae: 0.0325\n",
            "Epoch 11/50\n",
            "34/35 [============================>.] - ETA: 0s - loss: 0.0018 - mae: 0.0425\n",
            "Epoch 11: val_mae improved from 0.03246 to 0.03213, saving model to model/my_checkpoint.ckpt\n",
            "35/35 [==============================] - 1s 18ms/step - loss: 0.0018 - mae: 0.0423 - val_loss: 9.2452e-04 - val_mae: 0.0321\n",
            "Epoch 12/50\n",
            "32/35 [==========================>...] - ETA: 0s - loss: 0.0017 - mae: 0.0396\n",
            "Epoch 12: val_mae improved from 0.03213 to 0.03168, saving model to model/my_checkpoint.ckpt\n",
            "35/35 [==============================] - 1s 17ms/step - loss: 0.0017 - mae: 0.0399 - val_loss: 9.0340e-04 - val_mae: 0.0317\n",
            "Epoch 13/50\n",
            "34/35 [============================>.] - ETA: 0s - loss: 0.0016 - mae: 0.0382\n",
            "Epoch 13: val_mae improved from 0.03168 to 0.03117, saving model to model/my_checkpoint.ckpt\n",
            "35/35 [==============================] - 1s 18ms/step - loss: 0.0016 - mae: 0.0381 - val_loss: 8.7934e-04 - val_mae: 0.0312\n",
            "Epoch 14/50\n",
            "31/35 [=========================>....] - ETA: 0s - loss: 0.0016 - mae: 0.0366\n",
            "Epoch 14: val_mae improved from 0.03117 to 0.03064, saving model to model/my_checkpoint.ckpt\n",
            "35/35 [==============================] - 1s 18ms/step - loss: 0.0016 - mae: 0.0366 - val_loss: 8.5510e-04 - val_mae: 0.0306\n",
            "Epoch 15/50\n",
            "32/35 [==========================>...] - ETA: 0s - loss: 0.0015 - mae: 0.0352\n",
            "Epoch 15: val_mae improved from 0.03064 to 0.03016, saving model to model/my_checkpoint.ckpt\n",
            "35/35 [==============================] - 1s 18ms/step - loss: 0.0015 - mae: 0.0358 - val_loss: 8.3455e-04 - val_mae: 0.0302\n",
            "Epoch 16/50\n",
            "31/35 [=========================>....] - ETA: 0s - loss: 0.0015 - mae: 0.0351\n",
            "Epoch 16: val_mae improved from 0.03016 to 0.02976, saving model to model/my_checkpoint.ckpt\n",
            "35/35 [==============================] - 1s 17ms/step - loss: 0.0015 - mae: 0.0352 - val_loss: 8.1759e-04 - val_mae: 0.0298\n",
            "Epoch 17/50\n",
            "33/35 [===========================>..] - ETA: 0s - loss: 0.0014 - mae: 0.0336\n",
            "Epoch 17: val_mae improved from 0.02976 to 0.02942, saving model to model/my_checkpoint.ckpt\n",
            "35/35 [==============================] - 1s 17ms/step - loss: 0.0015 - mae: 0.0348 - val_loss: 8.0325e-04 - val_mae: 0.0294\n",
            "Epoch 18/50\n",
            "31/35 [=========================>....] - ETA: 0s - loss: 0.0015 - mae: 0.0343\n",
            "Epoch 18: val_mae improved from 0.02942 to 0.02915, saving model to model/my_checkpoint.ckpt\n",
            "35/35 [==============================] - 1s 17ms/step - loss: 0.0015 - mae: 0.0345 - val_loss: 7.9158e-04 - val_mae: 0.0291\n",
            "Epoch 19/50\n",
            "35/35 [==============================] - ETA: 0s - loss: 0.0015 - mae: 0.0342\n",
            "Epoch 19: val_mae improved from 0.02915 to 0.02891, saving model to model/my_checkpoint.ckpt\n",
            "35/35 [==============================] - 1s 19ms/step - loss: 0.0015 - mae: 0.0342 - val_loss: 7.8161e-04 - val_mae: 0.0289\n",
            "Epoch 20/50\n",
            "33/35 [===========================>..] - ETA: 0s - loss: 0.0014 - mae: 0.0328\n",
            "Epoch 20: val_mae improved from 0.02891 to 0.02872, saving model to model/my_checkpoint.ckpt\n",
            "35/35 [==============================] - 1s 29ms/step - loss: 0.0015 - mae: 0.0340 - val_loss: 7.7313e-04 - val_mae: 0.0287\n",
            "Epoch 21/50\n",
            "32/35 [==========================>...] - ETA: 0s - loss: 0.0014 - mae: 0.0330\n",
            "Epoch 21: val_mae improved from 0.02872 to 0.02856, saving model to model/my_checkpoint.ckpt\n",
            "35/35 [==============================] - 1s 18ms/step - loss: 0.0015 - mae: 0.0338 - val_loss: 7.6595e-04 - val_mae: 0.0286\n",
            "Epoch 22/50\n",
            "35/35 [==============================] - ETA: 0s - loss: 0.0015 - mae: 0.0337\n",
            "Epoch 22: val_mae improved from 0.02856 to 0.02843, saving model to model/my_checkpoint.ckpt\n",
            "35/35 [==============================] - 1s 20ms/step - loss: 0.0015 - mae: 0.0337 - val_loss: 7.5978e-04 - val_mae: 0.0284\n",
            "Epoch 23/50\n",
            "33/35 [===========================>..] - ETA: 0s - loss: 0.0014 - mae: 0.0322\n",
            "Epoch 23: val_mae improved from 0.02843 to 0.02831, saving model to model/my_checkpoint.ckpt\n",
            "35/35 [==============================] - 1s 42ms/step - loss: 0.0014 - mae: 0.0335 - val_loss: 7.5446e-04 - val_mae: 0.0283\n",
            "Epoch 24/50\n",
            "34/35 [============================>.] - ETA: 0s - loss: 0.0014 - mae: 0.0332\n",
            "Epoch 24: val_mae improved from 0.02831 to 0.02821, saving model to model/my_checkpoint.ckpt\n",
            "35/35 [==============================] - 1s 21ms/step - loss: 0.0014 - mae: 0.0334 - val_loss: 7.4977e-04 - val_mae: 0.0282\n",
            "Epoch 25/50\n",
            "31/35 [=========================>....] - ETA: 0s - loss: 0.0014 - mae: 0.0329\n",
            "Epoch 25: val_mae improved from 0.02821 to 0.02814, saving model to model/my_checkpoint.ckpt\n",
            "35/35 [==============================] - 1s 17ms/step - loss: 0.0014 - mae: 0.0332 - val_loss: 7.4605e-04 - val_mae: 0.0281\n",
            "Epoch 26/50\n",
            "31/35 [=========================>....] - ETA: 0s - loss: 0.0014 - mae: 0.0327\n",
            "Epoch 26: val_mae improved from 0.02814 to 0.02808, saving model to model/my_checkpoint.ckpt\n",
            "35/35 [==============================] - 1s 18ms/step - loss: 0.0014 - mae: 0.0331 - val_loss: 7.4276e-04 - val_mae: 0.0281\n",
            "Epoch 27/50\n",
            "32/35 [==========================>...] - ETA: 0s - loss: 0.0014 - mae: 0.0321\n",
            "Epoch 27: val_mae improved from 0.02808 to 0.02803, saving model to model/my_checkpoint.ckpt\n",
            "35/35 [==============================] - 1s 17ms/step - loss: 0.0014 - mae: 0.0330 - val_loss: 7.4015e-04 - val_mae: 0.0280\n",
            "Epoch 28/50\n",
            "31/35 [=========================>....] - ETA: 0s - loss: 0.0014 - mae: 0.0325\n",
            "Epoch 28: val_mae improved from 0.02803 to 0.02800, saving model to model/my_checkpoint.ckpt\n",
            "35/35 [==============================] - 1s 17ms/step - loss: 0.0014 - mae: 0.0329 - val_loss: 7.3777e-04 - val_mae: 0.0280\n",
            "Epoch 29/50\n",
            "32/35 [==========================>...] - ETA: 0s - loss: 0.0014 - mae: 0.0318\n",
            "Epoch 29: val_mae improved from 0.02800 to 0.02798, saving model to model/my_checkpoint.ckpt\n",
            "35/35 [==============================] - 1s 18ms/step - loss: 0.0014 - mae: 0.0328 - val_loss: 7.3596e-04 - val_mae: 0.0280\n",
            "Epoch 30/50\n",
            "34/35 [============================>.] - ETA: 0s - loss: 0.0014 - mae: 0.0325\n",
            "Epoch 30: val_mae improved from 0.02798 to 0.02796, saving model to model/my_checkpoint.ckpt\n",
            "35/35 [==============================] - 1s 19ms/step - loss: 0.0014 - mae: 0.0327 - val_loss: 7.3426e-04 - val_mae: 0.0280\n",
            "Epoch 31/50\n",
            "34/35 [============================>.] - ETA: 0s - loss: 0.0014 - mae: 0.0324\n",
            "Epoch 31: val_mae improved from 0.02796 to 0.02795, saving model to model/my_checkpoint.ckpt\n",
            "35/35 [==============================] - 1s 30ms/step - loss: 0.0014 - mae: 0.0326 - val_loss: 7.3301e-04 - val_mae: 0.0280\n",
            "Epoch 32/50\n",
            "33/35 [===========================>..] - ETA: 0s - loss: 0.0013 - mae: 0.0311\n",
            "Epoch 32: val_mae improved from 0.02795 to 0.02795, saving model to model/my_checkpoint.ckpt\n",
            "35/35 [==============================] - 1s 20ms/step - loss: 0.0014 - mae: 0.0326 - val_loss: 7.3189e-04 - val_mae: 0.0280\n",
            "Epoch 33/50\n",
            "32/35 [==========================>...] - ETA: 0s - loss: 0.0014 - mae: 0.0315\n",
            "Epoch 33: val_mae did not improve from 0.02795\n",
            "35/35 [==============================] - 1s 15ms/step - loss: 0.0014 - mae: 0.0325 - val_loss: 7.3111e-04 - val_mae: 0.0280\n",
            "Epoch 34/50\n",
            "32/35 [==========================>...] - ETA: 0s - loss: 0.0014 - mae: 0.0314\n",
            "Epoch 34: val_mae did not improve from 0.02795\n",
            "35/35 [==============================] - 1s 16ms/step - loss: 0.0014 - mae: 0.0324 - val_loss: 7.3041e-04 - val_mae: 0.0280\n",
            "Epoch 35/50\n",
            "31/35 [=========================>....] - ETA: 0s - loss: 0.0014 - mae: 0.0318\n",
            "Epoch 35: val_mae did not improve from 0.02795\n",
            "35/35 [==============================] - 1s 16ms/step - loss: 0.0014 - mae: 0.0324 - val_loss: 7.2985e-04 - val_mae: 0.0280\n",
            "Epoch 36/50\n",
            "31/35 [=========================>....] - ETA: 0s - loss: 0.0014 - mae: 0.0317\n",
            "Epoch 36: val_mae did not improve from 0.02795\n",
            "35/35 [==============================] - 1s 17ms/step - loss: 0.0014 - mae: 0.0323 - val_loss: 7.2972e-04 - val_mae: 0.0280\n",
            "Epoch 37/50\n",
            "32/35 [==========================>...] - ETA: 0s - loss: 0.0013 - mae: 0.0312\n",
            "Epoch 37: val_mae did not improve from 0.02795\n",
            "35/35 [==============================] - 1s 15ms/step - loss: 0.0014 - mae: 0.0323 - val_loss: 7.2942e-04 - val_mae: 0.0280\n",
            "Epoch 38/50\n",
            "31/35 [=========================>....] - ETA: 0s - loss: 0.0014 - mae: 0.0316\n",
            "Epoch 38: val_mae did not improve from 0.02795\n",
            "35/35 [==============================] - 1s 15ms/step - loss: 0.0014 - mae: 0.0322 - val_loss: 7.2942e-04 - val_mae: 0.0280\n",
            "Epoch 39/50\n",
            "35/35 [==============================] - ETA: 0s - loss: 0.0014 - mae: 0.0322\n",
            "Epoch 39: val_mae did not improve from 0.02795\n",
            "35/35 [==============================] - 1s 16ms/step - loss: 0.0014 - mae: 0.0322 - val_loss: 7.2942e-04 - val_mae: 0.0281\n",
            "Epoch 40/50\n",
            "32/35 [==========================>...] - ETA: 0s - loss: 0.0013 - mae: 0.0310\n",
            "Epoch 40: val_mae did not improve from 0.02795\n",
            "35/35 [==============================] - 1s 15ms/step - loss: 0.0014 - mae: 0.0321 - val_loss: 7.2944e-04 - val_mae: 0.0281\n",
            "Epoch 41/50\n",
            "31/35 [=========================>....] - ETA: 0s - loss: 0.0014 - mae: 0.0314\n",
            "Epoch 41: val_mae did not improve from 0.02795\n",
            "35/35 [==============================] - 1s 16ms/step - loss: 0.0014 - mae: 0.0321 - val_loss: 7.2964e-04 - val_mae: 0.0281\n",
            "Epoch 42/50\n",
            "35/35 [==============================] - ETA: 0s - loss: 0.0014 - mae: 0.0320\n",
            "Epoch 42: val_mae did not improve from 0.02795\n",
            "35/35 [==============================] - 1s 15ms/step - loss: 0.0014 - mae: 0.0320 - val_loss: 7.2978e-04 - val_mae: 0.0281\n",
            "Epoch 43/50\n",
            "35/35 [==============================] - ETA: 0s - loss: 0.0014 - mae: 0.0320\n",
            "Epoch 43: val_mae did not improve from 0.02795\n",
            "35/35 [==============================] - 1s 16ms/step - loss: 0.0014 - mae: 0.0320 - val_loss: 7.3012e-04 - val_mae: 0.0281\n",
            "Epoch 44/50\n",
            "34/35 [============================>.] - ETA: 0s - loss: 0.0014 - mae: 0.0316\n",
            "Epoch 44: val_mae did not improve from 0.02795\n",
            "35/35 [==============================] - 1s 17ms/step - loss: 0.0014 - mae: 0.0320 - val_loss: 7.3046e-04 - val_mae: 0.0282\n",
            "Epoch 45/50\n",
            "34/35 [============================>.] - ETA: 0s - loss: 0.0014 - mae: 0.0315\n",
            "Epoch 45: val_mae did not improve from 0.02795\n",
            "35/35 [==============================] - 1s 16ms/step - loss: 0.0014 - mae: 0.0319 - val_loss: 7.3086e-04 - val_mae: 0.0282\n",
            "Epoch 46/50\n",
            "31/35 [=========================>....] - ETA: 0s - loss: 0.0014 - mae: 0.0312\n",
            "Epoch 46: val_mae did not improve from 0.02795\n",
            "35/35 [==============================] - 1s 17ms/step - loss: 0.0014 - mae: 0.0319 - val_loss: 7.3120e-04 - val_mae: 0.0282\n",
            "Epoch 47/50\n",
            "32/35 [==========================>...] - ETA: 0s - loss: 0.0013 - mae: 0.0307\n",
            "Epoch 47: val_mae did not improve from 0.02795\n",
            "35/35 [==============================] - 1s 17ms/step - loss: 0.0014 - mae: 0.0319 - val_loss: 7.3171e-04 - val_mae: 0.0282\n",
            "Epoch 48/50\n",
            "34/35 [============================>.] - ETA: 0s - loss: 0.0014 - mae: 0.0314\n",
            "Epoch 48: val_mae did not improve from 0.02795\n",
            "35/35 [==============================] - 1s 25ms/step - loss: 0.0014 - mae: 0.0318 - val_loss: 7.3209e-04 - val_mae: 0.0283\n",
            "Epoch 49/50\n",
            "35/35 [==============================] - ETA: 0s - loss: 0.0014 - mae: 0.0318\n",
            "Epoch 49: val_mae did not improve from 0.02795\n",
            "35/35 [==============================] - 1s 23ms/step - loss: 0.0014 - mae: 0.0318 - val_loss: 7.3254e-04 - val_mae: 0.0283\n",
            "Epoch 50/50\n",
            "35/35 [==============================] - ETA: 0s - loss: 0.0014 - mae: 0.0318\n",
            "Epoch 50: val_mae did not improve from 0.02795\n",
            "35/35 [==============================] - 1s 16ms/step - loss: 0.0014 - mae: 0.0318 - val_loss: 7.3293e-04 - val_mae: 0.0283\n"
          ]
        },
        {
          "output_type": "execute_result",
          "data": {
            "text/plain": [
              "<keras.callbacks.History at 0x780fc02e4af0>"
            ]
          },
          "metadata": {},
          "execution_count": 18
        }
      ]
    },
    {
      "cell_type": "code",
      "source": [
        "model.load_weights(checkpoint_path)"
      ],
      "metadata": {
        "id": "TI0ptsx-egBY"
      },
      "execution_count": null,
      "outputs": []
    },
    {
      "cell_type": "code",
      "source": [
        "model.evaluate(valid_set)"
      ],
      "metadata": {
        "id": "mvXrlsmafJ1D"
      },
      "execution_count": null,
      "outputs": []
    }
  ]
}
