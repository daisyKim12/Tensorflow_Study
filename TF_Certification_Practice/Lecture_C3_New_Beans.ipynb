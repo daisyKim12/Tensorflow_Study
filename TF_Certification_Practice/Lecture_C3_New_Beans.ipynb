{
  "nbformat": 4,
  "nbformat_minor": 0,
  "metadata": {
    "colab": {
      "provenance": [],
      "gpuType": "T4",
      "authorship_tag": "ABX9TyO7X5KcUpNvLnlsmR9aMwIF",
      "include_colab_link": true
    },
    "kernelspec": {
      "name": "python3",
      "display_name": "Python 3"
    },
    "language_info": {
      "name": "python"
    },
    "accelerator": "GPU"
  },
  "cells": [
    {
      "cell_type": "markdown",
      "metadata": {
        "id": "view-in-github",
        "colab_type": "text"
      },
      "source": [
        "<a href=\"https://colab.research.google.com/github/daisyKim12/Tensorflow_Study/blob/main/Lecture_C3_New_Beans.ipynb\" target=\"_parent\"><img src=\"https://colab.research.google.com/assets/colab-badge.svg\" alt=\"Open In Colab\"/></a>"
      ]
    },
    {
      "cell_type": "code",
      "execution_count": null,
      "metadata": {
        "id": "ecW4pOMXzg-S"
      },
      "outputs": [],
      "source": [
        "# downgrade google colab tensorflow version to 2.9.0\n",
        "import urllib.request\n",
        "\n",
        "url = 'https://raw.githubusercontent.com/teddylee777/machine-learning/master/99-Misc/01-Colab/tfcert.py'\n",
        "urllib.request.urlretrieve(url, 'tfcert.py')\n",
        "%run tfcert.py\n",
        "\n",
        "import tensorflow as tf\n",
        "import tensorflow_datasets as tfds"
      ]
    },
    {
      "cell_type": "code",
      "source": [
        "import tensorflow as tf\n",
        "import tensorflow_datasets as tfds"
      ],
      "metadata": {
        "id": "F_1UOUaQzwsb"
      },
      "execution_count": null,
      "outputs": []
    },
    {
      "cell_type": "code",
      "source": [
        "IMG_SIZE = 300"
      ],
      "metadata": {
        "id": "nNsEHUcp0C6x"
      },
      "execution_count": null,
      "outputs": []
    },
    {
      "cell_type": "code",
      "source": [
        "def preprocess(image, label):\n",
        "  #resize image into (300,300,3)\n",
        "  #Normalize by rescaling by 255\n",
        "  image = tf.image.resize(image, size=(300,300))\n",
        "  image /= 255\n",
        "  return image, label"
      ],
      "metadata": {
        "id": "o-xjXdnY0Ge3"
      },
      "execution_count": null,
      "outputs": []
    },
    {
      "cell_type": "code",
      "source": [
        "(ds_train, ds_validation), ds_info = tfds.load(\n",
        "    name = 'beans',\n",
        "    split=['train', 'validation'],\n",
        "    as_supervised=True,\n",
        "    with_info=True,\n",
        ")"
      ],
      "metadata": {
        "id": "Sa9synuy06Vy"
      },
      "execution_count": null,
      "outputs": []
    },
    {
      "cell_type": "code",
      "source": [
        "BATCH_SIZE = 32"
      ],
      "metadata": {
        "id": "c9ZhAceL1d2x"
      },
      "execution_count": null,
      "outputs": []
    },
    {
      "cell_type": "code",
      "source": [
        "ds_train = ds_train.map(preprocess).cache(\n",
        "    ).shuffle(ds_info.splits['train'].num_examples).batch(BATCH_SIZE).prefetch(\n",
        "    tf.data.experimental.AUTOTUNE)\n",
        "ds_validation = ds_validation.map(preprocess).batch(BATCH_SIZE).cache(\n",
        "    ).prefetch(tf.data.experimental.AUTOTUNE)"
      ],
      "metadata": {
        "id": "jADFvdsc1sVz"
      },
      "execution_count": null,
      "outputs": []
    },
    {
      "cell_type": "code",
      "source": [
        "from tensorflow.keras.applications import VGG16"
      ],
      "metadata": {
        "id": "KyESX1Y3284_"
      },
      "execution_count": null,
      "outputs": []
    },
    {
      "cell_type": "code",
      "source": [
        "transfer_model = VGG16(weights='imagenet', include_top=False, input_shape=(300,300,3))\n",
        "transfer_model.trainable = False"
      ],
      "metadata": {
        "colab": {
          "base_uri": "https://localhost:8080/"
        },
        "id": "OQ7Uo1B43OVV",
        "outputId": "cad8946f-4a36-4b1c-9278-cd5ebd852c36"
      },
      "execution_count": null,
      "outputs": [
        {
          "output_type": "stream",
          "name": "stdout",
          "text": [
            "Downloading data from https://storage.googleapis.com/tensorflow/keras-applications/vgg16/vgg16_weights_tf_dim_ordering_tf_kernels_notop.h5\n",
            "58889256/58889256 [==============================] - 4s 0us/step\n"
          ]
        }
      ]
    },
    {
      "cell_type": "code",
      "source": [
        "from tensorflow.keras.layers import Dropout, Flatten, Dense\n",
        "from tensorflow.keras.callbacks import ModelCheckpoint"
      ],
      "metadata": {
        "id": "WeebdMc_3eLR"
      },
      "execution_count": null,
      "outputs": []
    },
    {
      "cell_type": "code",
      "source": [
        "model = tf.keras.models.Sequential([\n",
        "    transfer_model,\n",
        "    Flatten(),\n",
        "    Dropout(0.40),\n",
        "    Dense(128, activation='relu'),\n",
        "    Dense(64, activation='relu'),\n",
        "    Dense(32, activation='relu'),\n",
        "    Dense(3, activation='softmax'),\n",
        "])"
      ],
      "metadata": {
        "id": "fcZsB0ev0xkS"
      },
      "execution_count": null,
      "outputs": []
    },
    {
      "cell_type": "code",
      "source": [
        "model.compile(optimizer='adam', loss='sparse_categorical_crossentropy', metrics=['acc'])"
      ],
      "metadata": {
        "id": "8yfF-Tji4Mmr"
      },
      "execution_count": null,
      "outputs": []
    },
    {
      "cell_type": "code",
      "source": [
        "checkpoint_path = 'tmp_checkpoint.ckpt'\n",
        "checkpoint = ModelCheckpoint(filepath = checkpoint_path,\n",
        "                             save_weights_only = True,\n",
        "                             save_best_only = True,\n",
        "                             monitor = 'val_loss',\n",
        "                             verbose=1)"
      ],
      "metadata": {
        "id": "sXZjzSBg4rSS"
      },
      "execution_count": null,
      "outputs": []
    },
    {
      "cell_type": "code",
      "source": [
        "model.fit(ds_train, validation_data=ds_validation, epochs=5, callbacks=[checkpoint])"
      ],
      "metadata": {
        "colab": {
          "base_uri": "https://localhost:8080/"
        },
        "id": "NJaQDcyt5BY2",
        "outputId": "ae987a67-24fa-46df-8d4e-a1a68dedfd6c"
      },
      "execution_count": null,
      "outputs": [
        {
          "output_type": "stream",
          "name": "stdout",
          "text": [
            "Epoch 1/5\n",
            "33/33 [==============================] - ETA: 0s - loss: 0.8896 - acc: 0.6470\n",
            "Epoch 1: val_loss improved from inf to 0.44137, saving model to tmp_checkpoint.ckpt\n",
            "33/33 [==============================] - 12s 308ms/step - loss: 0.8896 - acc: 0.6470 - val_loss: 0.4414 - val_acc: 0.7970\n",
            "Epoch 2/5\n",
            "33/33 [==============================] - ETA: 0s - loss: 0.2759 - acc: 0.8975\n",
            "Epoch 2: val_loss did not improve from 0.44137\n",
            "33/33 [==============================] - 9s 282ms/step - loss: 0.2759 - acc: 0.8975 - val_loss: 0.5960 - val_acc: 0.7368\n",
            "Epoch 3/5\n",
            "33/33 [==============================] - ETA: 0s - loss: 0.2590 - acc: 0.8888\n",
            "Epoch 3: val_loss did not improve from 0.44137\n",
            "33/33 [==============================] - 9s 283ms/step - loss: 0.2590 - acc: 0.8888 - val_loss: 0.6017 - val_acc: 0.7820\n",
            "Epoch 4/5\n",
            "33/33 [==============================] - ETA: 0s - loss: 0.1291 - acc: 0.9594\n",
            "Epoch 4: val_loss improved from 0.44137 to 0.38825, saving model to tmp_checkpoint.ckpt\n",
            "33/33 [==============================] - 10s 289ms/step - loss: 0.1291 - acc: 0.9594 - val_loss: 0.3882 - val_acc: 0.8571\n",
            "Epoch 5/5\n",
            "33/33 [==============================] - ETA: 0s - loss: 0.0390 - acc: 0.9961\n",
            "Epoch 5: val_loss improved from 0.38825 to 0.37409, saving model to tmp_checkpoint.ckpt\n",
            "33/33 [==============================] - 9s 286ms/step - loss: 0.0390 - acc: 0.9961 - val_loss: 0.3741 - val_acc: 0.8571\n"
          ]
        },
        {
          "output_type": "execute_result",
          "data": {
            "text/plain": [
              "<keras.callbacks.History at 0x79a1e97cda80>"
            ]
          },
          "metadata": {},
          "execution_count": 55
        }
      ]
    },
    {
      "cell_type": "code",
      "source": [
        "model.load_weights(checkpoint_path)"
      ],
      "metadata": {
        "colab": {
          "base_uri": "https://localhost:8080/"
        },
        "id": "syXGdwPY5PaF",
        "outputId": "fe9f5988-b6e4-4ea1-b036-23a5654684a8"
      },
      "execution_count": null,
      "outputs": [
        {
          "output_type": "execute_result",
          "data": {
            "text/plain": [
              "<tensorflow.python.checkpoint.checkpoint.CheckpointLoadStatus at 0x79a1eaeebe20>"
            ]
          },
          "metadata": {},
          "execution_count": 56
        }
      ]
    },
    {
      "cell_type": "code",
      "source": [
        "model.evaluate(ds_validation)"
      ],
      "metadata": {
        "colab": {
          "base_uri": "https://localhost:8080/"
        },
        "id": "0XIdLtgM5r2u",
        "outputId": "35eb232f-de7a-477e-a1db-5a2ff545c55b"
      },
      "execution_count": null,
      "outputs": [
        {
          "output_type": "stream",
          "name": "stdout",
          "text": [
            "5/5 [==============================] - 1s 183ms/step - loss: 0.3741 - acc: 0.8571\n"
          ]
        },
        {
          "output_type": "execute_result",
          "data": {
            "text/plain": [
              "[0.3740919828414917, 0.8571428656578064]"
            ]
          },
          "metadata": {},
          "execution_count": 57
        }
      ]
    }
  ]
}
